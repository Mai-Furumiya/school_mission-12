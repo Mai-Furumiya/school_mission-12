{
  "nbformat": 4,
  "nbformat_minor": 0,
  "metadata": {
    "colab": {
      "name": "U-Net.ipynb",
      "provenance": [],
      "authorship_tag": "ABX9TyObevcYBd/J8QHNBVnXGMEA",
      "include_colab_link": true
    },
    "kernelspec": {
      "name": "python3",
      "display_name": "Python 3"
    }
  },
  "cells": [
    {
      "cell_type": "markdown",
      "metadata": {
        "id": "view-in-github",
        "colab_type": "text"
      },
      "source": [
        "<a href=\"https://colab.research.google.com/github/Sonochy/UoA_school_mission-12/blob/dev_UNet/U_Net.ipynb\" target=\"_parent\"><img src=\"https://colab.research.google.com/assets/colab-badge.svg\" alt=\"Open In Colab\"/></a>"
      ]
    },
    {
      "cell_type": "markdown",
      "metadata": {
        "id": "Q5du9G3uLR-I",
        "colab_type": "text"
      },
      "source": [
        "## [惑星探査育英会　第十二回実習会](https://www.cps-jp.org/~tansaku/wiki/top/?school_mission-12)\n",
        "pix2pixを用いたsemantic segmentation"
      ]
    },
    {
      "cell_type": "markdown",
      "metadata": {
        "id": "KVu88p4TLbcZ",
        "colab_type": "text"
      },
      "source": [
        ""
      ]
    },
    {
      "cell_type": "markdown",
      "metadata": {
        "id": "N7_SPw3bLbna",
        "colab_type": "text"
      },
      "source": [
        "## 参考URL\n",
        "\n",
        "\n",
        "\n",
        "*   [Colaboratory へようこそ](https://colab.research.google.com/notebooks/welcome.ipynb?hl=ja#scrollTo=-Rh3-Vt9Nev9)\n",
        "*   [Google Colaboratoryでpix2pixを動かしてみる。](https://qiita.com/simonritchie/items/09b2810f0bcf12305719)\n",
        "*   [Google Colaboratory での Terminal 操作](https://qiita.com/shirobu2400/items/2fad1d24053b7cb35547)\n",
        "*   [Google Colaboratoryをもっと便利に使いたい](https://karaage.hatenadiary.jp/entry/2018/12/17/073000)\n",
        "*   [Image Segmentation with tf.keras](https://colab.research.google.com/github/tensorflow/models/blob/master/samples/outreach/blogs/segmentation_blogpost/image_segmentation.ipynb#scrollTo=cl79rk4KKol8)\n",
        "*   リスト項目\n"
      ]
    },
    {
      "cell_type": "markdown",
      "metadata": {
        "id": "lgD4PS58LzQE",
        "colab_type": "text"
      },
      "source": [
        "## スペック確認"
      ]
    },
    {
      "cell_type": "markdown",
      "metadata": {
        "id": "8bvF3XPvLzTc",
        "colab_type": "text"
      },
      "source": [
        "カレントディレクトリ確認"
      ]
    },
    {
      "cell_type": "code",
      "metadata": {
        "id": "nAhS9oBqLKaA",
        "colab_type": "code",
        "colab": {}
      },
      "source": [
        ""
      ],
      "execution_count": 0,
      "outputs": []
    }
  ]
}