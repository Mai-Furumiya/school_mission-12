{
  "nbformat": 4,
  "nbformat_minor": 0,
  "metadata": {
    "colab": {
      "name": "test_pix2pix_affinelayer.ipynb",
      "provenance": [],
      "collapsed_sections": [],
      "authorship_tag": "ABX9TyMvMEoTZVUjinn9Jzz1BkXk",
      "include_colab_link": true
    },
    "kernelspec": {
      "name": "python3",
      "display_name": "Python 3"
    },
    "accelerator": "GPU"
  },
  "cells": [
    {
      "cell_type": "markdown",
      "metadata": {
        "id": "view-in-github",
        "colab_type": "text"
      },
      "source": [
        "<a href=\"https://colab.research.google.com/github/Sonochy/UoA_school_mission-12/blob/dev/test_pix2pix_affinelayer.ipynb\" target=\"_parent\"><img src=\"https://colab.research.google.com/assets/colab-badge.svg\" alt=\"Open In Colab\"/></a>"
      ]
    },
    {
      "cell_type": "markdown",
      "metadata": {
        "id": "fMW0w8xQY3fm",
        "colab_type": "text"
      },
      "source": [
        "### [惑星探査育英会　第十二回実習会](https://www.cps-jp.org/~tansaku/wiki/top/?school_mission-12)"
      ]
    },
    {
      "cell_type": "markdown",
      "metadata": {
        "id": "5WurEDpKfxj7",
        "colab_type": "text"
      },
      "source": [
        ""
      ]
    },
    {
      "cell_type": "markdown",
      "metadata": {
        "id": "fC3wz96Nac_j",
        "colab_type": "text"
      },
      "source": [
        "# 参考URL\n",
        "\n",
        "\n",
        "*   [Google Colaboratoryでpix2pixを動かしてみる。](https://qiita.com/simonritchie/items/09b2810f0bcf12305719)\n",
        "*   [Google Colaboratory での Terminal 操作](https://qiita.com/shirobu2400/items/2fad1d24053b7cb35547)\n",
        "*   [Google Colaboratoryをもっと便利に使いたい](https://karaage.hatenadiary.jp/entry/2018/12/17/073000)\n",
        "\n",
        "\n",
        "\n",
        "\n",
        "\n",
        "\n",
        "\n",
        "\n",
        "\n"
      ]
    },
    {
      "cell_type": "markdown",
      "metadata": {
        "id": "RR0q7zoPgT48",
        "colab_type": "text"
      },
      "source": [
        "## スペック確認"
      ]
    },
    {
      "cell_type": "code",
      "metadata": {
        "id": "TUv4FNzMd7Bj",
        "colab_type": "code",
        "outputId": "40eeac5c-abde-4f58-ad3d-6b24a65a5f4d",
        "colab": {
          "base_uri": "https://localhost:8080/",
          "height": 51
        }
      },
      "source": [
        "#@title OS確認\n",
        "!cat /etc/issue"
      ],
      "execution_count": 0,
      "outputs": [
        {
          "output_type": "stream",
          "text": [
            "Ubuntu 18.04.3 LTS \\n \\l\n",
            "\n"
          ],
          "name": "stdout"
        }
      ]
    },
    {
      "cell_type": "code",
      "metadata": {
        "id": "0fNRw5qed-n9",
        "colab_type": "code",
        "outputId": "31115851-c0c1-4a44-9f5e-51012747bd5d",
        "colab": {
          "base_uri": "https://localhost:8080/",
          "height": 68
        }
      },
      "source": [
        "#@title メモリ確認\n",
        "!free -h"
      ],
      "execution_count": 0,
      "outputs": [
        {
          "output_type": "stream",
          "text": [
            "              total        used        free      shared  buff/cache   available\n",
            "Mem:            12G        561M        8.8G        896K        3.3G         11G\n",
            "Swap:            0B          0B          0B\n"
          ],
          "name": "stdout"
        }
      ]
    },
    {
      "cell_type": "code",
      "metadata": {
        "id": "fSG9aRtLefXm",
        "colab_type": "code",
        "colab": {}
      },
      "source": [
        "#@title CPUのスペック確認\n",
        "!cat /proc/cpuinfo "
      ],
      "execution_count": 0,
      "outputs": []
    },
    {
      "cell_type": "code",
      "metadata": {
        "id": "niVkodvLeofW",
        "colab_type": "code",
        "outputId": "a91ec6ea-73b3-4254-d67a-143e36d7cc0a",
        "colab": {
          "base_uri": "https://localhost:8080/",
          "height": 186
        }
      },
      "source": [
        "#@title GPUのスペック確認\n",
        "!cat /proc/driver/nvidia/gpus/0000:00:04.0/information"
      ],
      "execution_count": 0,
      "outputs": [
        {
          "output_type": "stream",
          "text": [
            "Model: \t\t Tesla T4\n",
            "IRQ:   \t\t 11\n",
            "GPU UUID: \t GPU-0393d4da-34c8-8e29-351b-5aa420c6ceb9\n",
            "Video BIOS: \t 90.04.21.00.01\n",
            "Bus Type: \t PCI\n",
            "DMA Size: \t 47 bits\n",
            "DMA Mask: \t 0x7fffffffffff\n",
            "Bus Location: \t 0000:00:04.0\n",
            "Device Minor: \t 0\n",
            "Blacklisted:\t No\n"
          ],
          "name": "stdout"
        }
      ]
    },
    {
      "cell_type": "code",
      "metadata": {
        "id": "uFQSrVO6fLFP",
        "colab_type": "code",
        "outputId": "a9974c03-1942-4b4c-83f4-8b38bd8ebb37",
        "colab": {
          "base_uri": "https://localhost:8080/",
          "height": 34
        }
      },
      "source": [
        "#@title Google Colabの起動してからの時間確認\n",
        "!cat /proc/uptime | awk '{print $1 /60 /60 /24 \"days (\" $1 \"sec)\"}'"
      ],
      "execution_count": 0,
      "outputs": [
        {
          "output_type": "stream",
          "text": [
            "0.0158216days (1366.99sec)\n"
          ],
          "name": "stdout"
        }
      ]
    },
    {
      "cell_type": "code",
      "metadata": {
        "id": "LK_pb9HIpR9t",
        "colab_type": "code",
        "colab": {
          "base_uri": "https://localhost:8080/",
          "height": 121
        },
        "outputId": "39b2a092-da98-46ad-d66b-41ddb9dee5ec"
      },
      "source": [
        "#@title ドライブにマウント\n",
        "from google.colab import drive\n",
        "drive.mount('/content/drive')"
      ],
      "execution_count": 9,
      "outputs": [
        {
          "output_type": "stream",
          "text": [
            "Go to this URL in a browser: https://accounts.google.com/o/oauth2/auth?client_id=947318989803-6bn6qk8qdgf4n4g3pfee6491hc0brc4i.apps.googleusercontent.com&redirect_uri=urn%3aietf%3awg%3aoauth%3a2.0%3aoob&response_type=code&scope=email%20https%3a%2f%2fwww.googleapis.com%2fauth%2fdocs.test%20https%3a%2f%2fwww.googleapis.com%2fauth%2fdrive%20https%3a%2f%2fwww.googleapis.com%2fauth%2fdrive.photos.readonly%20https%3a%2f%2fwww.googleapis.com%2fauth%2fpeopleapi.readonly\n",
            "\n",
            "Enter your authorization code:\n",
            "··········\n",
            "Mounted at /content/drive\n"
          ],
          "name": "stdout"
        }
      ]
    },
    {
      "cell_type": "markdown",
      "metadata": {
        "id": "4qlbwsF4fbd0",
        "colab_type": "text"
      },
      "source": [
        "## pix2pixのサンプル実行"
      ]
    },
    {
      "cell_type": "code",
      "metadata": {
        "id": "ISyIUeYrjml4",
        "colab_type": "code",
        "outputId": "0179e7d5-035b-4cec-85e7-e8c9e5f4b1b8",
        "colab": {
          "base_uri": "https://localhost:8080/",
          "height": 68
        }
      },
      "source": [
        "%cd ~/contents\n",
        "!pwd\n",
        "!ls"
      ],
      "execution_count": 8,
      "outputs": [
        {
          "output_type": "stream",
          "text": [
            "[Errno 2] No such file or directory: '/root/contents'\n",
            "/root\n",
            "/root\n"
          ],
          "name": "stdout"
        }
      ]
    },
    {
      "cell_type": "code",
      "metadata": {
        "id": "WfBY4g5Ni7za",
        "colab_type": "code",
        "outputId": "c6c39253-4e6f-4068-fcfe-41d7a818acfd",
        "colab": {
          "base_uri": "https://localhost:8080/",
          "height": 101
        }
      },
      "source": [
        "!git clone https://github.com/affinelayer/pix2pix-tensorflow.git"
      ],
      "execution_count": 1,
      "outputs": [
        {
          "output_type": "stream",
          "text": [
            "Cloning into 'pix2pix-tensorflow'...\n",
            "remote: Enumerating objects: 261, done.\u001b[K\n",
            "remote: Total 261 (delta 0), reused 0 (delta 0), pack-reused 261\u001b[K\n",
            "Receiving objects: 100% (261/261), 13.33 MiB | 13.82 MiB/s, done.\n",
            "Resolving deltas: 100% (103/103), done.\n"
          ],
          "name": "stdout"
        }
      ]
    },
    {
      "cell_type": "code",
      "metadata": {
        "id": "rcaSoOKqoUgj",
        "colab_type": "code",
        "colab": {
          "base_uri": "https://localhost:8080/",
          "height": 34
        },
        "outputId": "208ef9c8-455e-43d0-840c-e9ec234f0634"
      },
      "source": [
        "!cd pix2pix-tensorflow\n",
        "!ls"
      ],
      "execution_count": 3,
      "outputs": [
        {
          "output_type": "stream",
          "text": [
            "pix2pix-tensorflow  sample_data\n"
          ],
          "name": "stdout"
        }
      ]
    },
    {
      "cell_type": "code",
      "metadata": {
        "id": "6PDA23jwY7L7",
        "colab_type": "code",
        "outputId": "cc7094ca-bb92-48c4-8f0c-47286db8d1b8",
        "colab": {
          "base_uri": "https://localhost:8080/",
          "height": 34
        }
      },
      "source": [
        "!git clone https://github.com/tdeboissiere/DeepLearningImplementations.git"
      ],
      "execution_count": 0,
      "outputs": [
        {
          "output_type": "stream",
          "text": [
            "fatal: destination path 'DeepLearningImplementations' already exists and is not an empty directory.\n"
          ],
          "name": "stdout"
        }
      ]
    },
    {
      "cell_type": "code",
      "metadata": {
        "id": "eJnKB6BpbuCk",
        "colab_type": "code",
        "colab": {}
      },
      "source": [
        "!rsync -a DeepLearningImplementations/pix2pix/ pix2pix/"
      ],
      "execution_count": 0,
      "outputs": []
    },
    {
      "cell_type": "code",
      "metadata": {
        "id": "nJbAiT6yby7r",
        "colab_type": "code",
        "outputId": "a7493ee4-a91a-4cb6-8d73-ac03c4148d1a",
        "colab": {
          "base_uri": "https://localhost:8080/",
          "height": 51
        }
      },
      "source": [
        "ls pix2pix/"
      ],
      "execution_count": 0,
      "outputs": [
        {
          "output_type": "stream",
          "text": [
            "\u001b[0m\u001b[01;34mdata\u001b[0m/      \u001b[01;34mfigures\u001b[0m/  LICENSE  \u001b[01;32mmodels.lua\u001b[0m*  \u001b[01;34mscripts\u001b[0m/  \u001b[01;32mtest.lua\u001b[0m*  \u001b[01;34mutil\u001b[0m/\n",
            "\u001b[01;34mdatasets\u001b[0m/  \u001b[01;34mimgs\u001b[0m/     \u001b[01;34mmodels\u001b[0m/  README.md    \u001b[01;34msrc\u001b[0m/      train.lua\n"
          ],
          "name": "stdout"
        }
      ]
    },
    {
      "cell_type": "code",
      "metadata": {
        "id": "16_ijVBLgkvW",
        "colab_type": "code",
        "colab": {}
      },
      "source": [
        "import os\n",
        "os.chdir('pix2pix/')"
      ],
      "execution_count": 0,
      "outputs": []
    },
    {
      "cell_type": "code",
      "metadata": {
        "id": "j3d7_8xYgn2a",
        "colab_type": "code",
        "colab": {}
      },
      "source": [
        "!bash ./datasets/download_dataset.sh facades"
      ],
      "execution_count": 0,
      "outputs": []
    },
    {
      "cell_type": "code",
      "metadata": {
        "id": "1GOP71eedaRY",
        "colab_type": "code",
        "outputId": "46c4a16c-e4c3-4fde-a0fe-3c0078b67841",
        "colab": {
          "base_uri": "https://localhost:8080/",
          "height": 34
        }
      },
      "source": [
        "!pip install xonsh"
      ],
      "execution_count": 0,
      "outputs": [
        {
          "output_type": "stream",
          "text": [
            "Requirement already satisfied: xonsh in /usr/local/lib/python3.6/dist-packages (0.9.13.dev1)\n"
          ],
          "name": "stdout"
        }
      ]
    },
    {
      "cell_type": "code",
      "metadata": {
        "id": "gZJ_X-MBcK4j",
        "colab_type": "code",
        "colab": {}
      },
      "source": [
        "!python -V"
      ],
      "execution_count": 0,
      "outputs": []
    },
    {
      "cell_type": "code",
      "metadata": {
        "id": "sApyQpRnchFd",
        "colab_type": "code",
        "outputId": "2cf65b5b-afcb-4062-c47b-bf9948a6f708",
        "colab": {
          "base_uri": "https://localhost:8080/",
          "height": 288
        }
      },
      "source": [
        "!pip install parmap==1.5.1\n",
        "!pip install tqdm==4.17.0\n",
        "!pip install opencv_python==3.3.0.10\n",
        "!pip install h5py==2.7.0\n",
        "!pip install numpy==1.13.3\n",
        "!pip install pydot\n",
        "!pip install graphviz\n",
        "!pip install pydot3\n",
        "!pip install pydot-ng"
      ],
      "execution_count": 0,
      "outputs": [
        {
          "output_type": "stream",
          "text": [
            "Requirement already satisfied: parmap==1.5.1 in /usr/local/lib/python3.6/dist-packages (1.5.1)\n",
            "Requirement already satisfied: tqdm==4.17.0 in /usr/local/lib/python3.6/dist-packages (4.17.0)\n",
            "Requirement already satisfied: opencv_python==3.3.0.10 in /usr/local/lib/python3.6/dist-packages (3.3.0.10)\n",
            "Requirement already satisfied: numpy>=1.11.3 in /usr/local/lib/python3.6/dist-packages (from opencv_python==3.3.0.10) (1.13.3)\n",
            "Requirement already satisfied: h5py==2.7.0 in /usr/local/lib/python3.6/dist-packages (2.7.0)\n",
            "Requirement already satisfied: numpy>=1.7 in /usr/local/lib/python3.6/dist-packages (from h5py==2.7.0) (1.13.3)\n",
            "Requirement already satisfied: six in /usr/local/lib/python3.6/dist-packages (from h5py==2.7.0) (1.12.0)\n",
            "Requirement already satisfied: numpy==1.13.3 in /usr/local/lib/python3.6/dist-packages (1.13.3)\n",
            "Requirement already satisfied: pydot in /usr/local/lib/python3.6/dist-packages (1.3.0)\n",
            "Requirement already satisfied: pyparsing>=2.1.4 in /usr/local/lib/python3.6/dist-packages (from pydot) (2.4.6)\n",
            "Requirement already satisfied: graphviz in /usr/local/lib/python3.6/dist-packages (0.10.1)\n",
            "Requirement already satisfied: pydot3 in /usr/local/lib/python3.6/dist-packages (1.0.9)\n",
            "Requirement already satisfied: setuptools in /usr/local/lib/python3.6/dist-packages (from pydot3) (45.1.0)\n",
            "Requirement already satisfied: pyparsing in /usr/local/lib/python3.6/dist-packages (from pydot3) (2.4.6)\n",
            "Requirement already satisfied: pydot-ng in /usr/local/lib/python3.6/dist-packages (2.0.0)\n",
            "Requirement already satisfied: pyparsing>=2.0.1 in /usr/local/lib/python3.6/dist-packages (from pydot-ng) (2.4.6)\n"
          ],
          "name": "stdout"
        }
      ]
    },
    {
      "cell_type": "code",
      "metadata": {
        "id": "aLDf4vMIhwhH",
        "colab_type": "code",
        "outputId": "2286bb17-fa05-4691-b72c-ebe6bb9af57e",
        "colab": {
          "base_uri": "https://localhost:8080/",
          "height": 34
        }
      },
      "source": [
        "!ls"
      ],
      "execution_count": 0,
      "outputs": [
        {
          "output_type": "stream",
          "text": [
            "main.py  models.py  README.md  train.py\n"
          ],
          "name": "stdout"
        }
      ]
    },
    {
      "cell_type": "code",
      "metadata": {
        "id": "ufACk93dh-1H",
        "colab_type": "code",
        "outputId": "02534870-77b4-449a-b551-b5172e8a56c5",
        "colab": {
          "base_uri": "https://localhost:8080/",
          "height": 34
        }
      },
      "source": [
        "!python make_dataset.py ../../datasets/facades/ 3 --img_size 256"
      ],
      "execution_count": 0,
      "outputs": [
        {
          "output_type": "stream",
          "text": [
            "python3: can't open file 'make_dataset.py': [Errno 2] No such file or directory\n"
          ],
          "name": "stdout"
        }
      ]
    },
    {
      "cell_type": "code",
      "metadata": {
        "id": "lC0PHhDYdBrU",
        "colab_type": "code",
        "outputId": "6eee4714-b041-4701-bc16-426a5d85f688",
        "colab": {
          "base_uri": "https://localhost:8080/",
          "height": 152
        }
      },
      "source": [
        "!apt-get install graphviz"
      ],
      "execution_count": 0,
      "outputs": [
        {
          "output_type": "stream",
          "text": [
            "Reading package lists... Done\n",
            "Building dependency tree       \n",
            "Reading state information... Done\n",
            "graphviz is already the newest version (2.40.1-2).\n",
            "The following package was automatically installed and is no longer required:\n",
            "  libnvidia-common-430\n",
            "Use 'apt autoremove' to remove it.\n",
            "0 upgraded, 0 newly installed, 0 to remove and 25 not upgraded.\n"
          ],
          "name": "stdout"
        }
      ]
    },
    {
      "cell_type": "code",
      "metadata": {
        "id": "nrhfcvyuijKk",
        "colab_type": "code",
        "outputId": "6a53998e-2c7e-4213-97c7-1a5ad1fff8cc",
        "colab": {
          "base_uri": "https://localhost:8080/",
          "height": 34
        }
      },
      "source": [
        "os.chdir('../../src/model/')\n",
        "!ls"
      ],
      "execution_count": 0,
      "outputs": [
        {
          "output_type": "stream",
          "text": [
            "main.py  models.py  README.md  train.py\n"
          ],
          "name": "stdout"
        }
      ]
    },
    {
      "cell_type": "code",
      "metadata": {
        "id": "GODaqyLMioJN",
        "colab_type": "code",
        "outputId": "a70832a5-2eeb-4f28-d029-ed0fbbbaede2",
        "colab": {
          "base_uri": "https://localhost:8080/",
          "height": 118
        }
      },
      "source": [
        "!python main.py 64 64 --backend tensorflow --nb_epoch 10"
      ],
      "execution_count": 0,
      "outputs": [
        {
          "output_type": "stream",
          "text": [
            "Using TensorFlow backend.\n",
            "RuntimeError: module compiled against API version 0xc but this version of numpy is 0xb\n",
            "ImportError: numpy.core.multiarray failed to import\n",
            "ImportError: numpy.core.umath failed to import\n",
            "ImportError: numpy.core.umath failed to import\n",
            "2020-02-11 09:19:58.325162: F tensorflow/python/lib/core/bfloat16.cc:675] Check failed: PyBfloat16_Type.tp_base != nullptr \n"
          ],
          "name": "stdout"
        }
      ]
    }
  ]
}