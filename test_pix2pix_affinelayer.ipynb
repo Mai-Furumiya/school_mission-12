{
  "nbformat": 4,
  "nbformat_minor": 0,
  "metadata": {
    "colab": {
      "name": "test_pix2pix_affinelayer.ipynb",
      "provenance": [],
      "collapsed_sections": [],
      "mount_file_id": "1YEizv_pn_XxI38VvH_b1SGEXkU_n5q0Z",
      "authorship_tag": "ABX9TyObPjxdqzLYsFAE7wHTn5bU",
      "include_colab_link": true
    },
    "kernelspec": {
      "name": "python3",
      "display_name": "Python 3"
    },
    "accelerator": "GPU"
  },
  "cells": [
    {
      "cell_type": "markdown",
      "metadata": {
        "id": "view-in-github",
        "colab_type": "text"
      },
      "source": [
        "<a href=\"https://colab.research.google.com/github/Sonochy/UoA_school_mission-12/blob/dev/test_pix2pix_affinelayer.ipynb\" target=\"_parent\"><img src=\"https://colab.research.google.com/assets/colab-badge.svg\" alt=\"Open In Colab\"/></a>"
      ]
    },
    {
      "cell_type": "markdown",
      "metadata": {
        "id": "fMW0w8xQY3fm",
        "colab_type": "text"
      },
      "source": [
        "## [惑星探査育英会　第十二回実習会](https://www.cps-jp.org/~tansaku/wiki/top/?school_mission-12)\n",
        "pix2pixを用いたsemantic segmentation"
      ]
    },
    {
      "cell_type": "markdown",
      "metadata": {
        "id": "fC3wz96Nac_j",
        "colab_type": "text"
      },
      "source": [
        "## 参考URL\n",
        "\n",
        "\n",
        "\n",
        "*   [Colaboratory へようこそ](https://colab.research.google.com/notebooks/welcome.ipynb?hl=ja#scrollTo=-Rh3-Vt9Nev9)\n",
        "*   [Google Colaboratoryでpix2pixを動かしてみる。](https://qiita.com/simonritchie/items/09b2810f0bcf12305719)\n",
        "*   [Google Colaboratory での Terminal 操作](https://qiita.com/shirobu2400/items/2fad1d24053b7cb35547)\n",
        "*   [Google Colaboratoryをもっと便利に使いたい](https://karaage.hatenadiary.jp/entry/2018/12/17/073000)\n",
        "\n",
        "\n",
        "\n",
        "\n",
        "\n",
        "\n",
        "\n",
        "\n",
        "\n"
      ]
    },
    {
      "cell_type": "markdown",
      "metadata": {
        "id": "RR0q7zoPgT48",
        "colab_type": "text"
      },
      "source": [
        "## スペック確認"
      ]
    },
    {
      "cell_type": "code",
      "metadata": {
        "id": "TUv4FNzMd7Bj",
        "colab_type": "code",
        "outputId": "40eeac5c-abde-4f58-ad3d-6b24a65a5f4d",
        "colab": {
          "base_uri": "https://localhost:8080/",
          "height": 51
        }
      },
      "source": [
        "#@title OS確認\n",
        "!cat /etc/issue"
      ],
      "execution_count": 0,
      "outputs": [
        {
          "output_type": "stream",
          "text": [
            "Ubuntu 18.04.3 LTS \\n \\l\n",
            "\n"
          ],
          "name": "stdout"
        }
      ]
    },
    {
      "cell_type": "code",
      "metadata": {
        "id": "0fNRw5qed-n9",
        "colab_type": "code",
        "outputId": "31115851-c0c1-4a44-9f5e-51012747bd5d",
        "colab": {
          "base_uri": "https://localhost:8080/",
          "height": 68
        }
      },
      "source": [
        "#@title メモリ確認\n",
        "!free -h"
      ],
      "execution_count": 0,
      "outputs": [
        {
          "output_type": "stream",
          "text": [
            "              total        used        free      shared  buff/cache   available\n",
            "Mem:            12G        561M        8.8G        896K        3.3G         11G\n",
            "Swap:            0B          0B          0B\n"
          ],
          "name": "stdout"
        }
      ]
    },
    {
      "cell_type": "code",
      "metadata": {
        "id": "fSG9aRtLefXm",
        "colab_type": "code",
        "colab": {}
      },
      "source": [
        "#@title CPUのスペック確認\n",
        "!cat /proc/cpuinfo "
      ],
      "execution_count": 0,
      "outputs": []
    },
    {
      "cell_type": "code",
      "metadata": {
        "id": "niVkodvLeofW",
        "colab_type": "code",
        "outputId": "a91ec6ea-73b3-4254-d67a-143e36d7cc0a",
        "colab": {
          "base_uri": "https://localhost:8080/",
          "height": 186
        }
      },
      "source": [
        "#@title GPUのスペック確認\n",
        "!cat /proc/driver/nvidia/gpus/0000:00:04.0/information"
      ],
      "execution_count": 0,
      "outputs": [
        {
          "output_type": "stream",
          "text": [
            "Model: \t\t Tesla T4\n",
            "IRQ:   \t\t 11\n",
            "GPU UUID: \t GPU-0393d4da-34c8-8e29-351b-5aa420c6ceb9\n",
            "Video BIOS: \t 90.04.21.00.01\n",
            "Bus Type: \t PCI\n",
            "DMA Size: \t 47 bits\n",
            "DMA Mask: \t 0x7fffffffffff\n",
            "Bus Location: \t 0000:00:04.0\n",
            "Device Minor: \t 0\n",
            "Blacklisted:\t No\n"
          ],
          "name": "stdout"
        }
      ]
    },
    {
      "cell_type": "code",
      "metadata": {
        "id": "uFQSrVO6fLFP",
        "colab_type": "code",
        "outputId": "a9974c03-1942-4b4c-83f4-8b38bd8ebb37",
        "colab": {
          "base_uri": "https://localhost:8080/",
          "height": 34
        }
      },
      "source": [
        "#@title Google Colabの起動してからの時間確認\n",
        "!cat /proc/uptime | awk '{print $1 /60 /60 /24 \"days (\" $1 \"sec)\"}'"
      ],
      "execution_count": 0,
      "outputs": [
        {
          "output_type": "stream",
          "text": [
            "0.0158216days (1366.99sec)\n"
          ],
          "name": "stdout"
        }
      ]
    },
    {
      "cell_type": "markdown",
      "metadata": {
        "id": "R32JYT8msXva",
        "colab_type": "text"
      },
      "source": [
        "## ライブラリ Install"
      ]
    },
    {
      "cell_type": "code",
      "metadata": {
        "id": "KG0cMk2GsbTz",
        "colab_type": "code",
        "colab": {}
      },
      "source": [
        ""
      ],
      "execution_count": 0,
      "outputs": []
    },
    {
      "cell_type": "markdown",
      "metadata": {
        "id": "1WT5rMftqEC7",
        "colab_type": "text"
      },
      "source": [
        "## ドライブにマウント"
      ]
    },
    {
      "cell_type": "code",
      "metadata": {
        "id": "LK_pb9HIpR9t",
        "colab_type": "code",
        "colab": {
          "base_uri": "https://localhost:8080/",
          "height": 34
        },
        "cellView": "both",
        "outputId": "dbadf443-1fba-47c3-c0f0-ed76ecbb81f2"
      },
      "source": [
        "from google.colab import drive\n",
        "drive.mount('/content/drive')"
      ],
      "execution_count": 18,
      "outputs": [
        {
          "output_type": "stream",
          "text": [
            "Drive already mounted at /content/drive; to attempt to forcibly remount, call drive.mount(\"/content/drive\", force_remount=True).\n"
          ],
          "name": "stdout"
        }
      ]
    },
    {
      "cell_type": "markdown",
      "metadata": {
        "id": "4qlbwsF4fbd0",
        "colab_type": "text"
      },
      "source": [
        "## pix2pixのサンプル実行"
      ]
    },
    {
      "cell_type": "code",
      "metadata": {
        "id": "ISyIUeYrjml4",
        "colab_type": "code",
        "colab": {}
      },
      "source": [
        "!pwd\n",
        "!ls"
      ],
      "execution_count": 0,
      "outputs": []
    },
    {
      "cell_type": "code",
      "metadata": {
        "id": "WfBY4g5Ni7za",
        "colab_type": "code",
        "colab": {}
      },
      "source": [
        "!git clone https://github.com/affinelayer/pix2pix-tensorflow.git"
      ],
      "execution_count": 0,
      "outputs": []
    },
    {
      "cell_type": "code",
      "metadata": {
        "id": "rcaSoOKqoUgj",
        "colab_type": "code",
        "colab": {
          "base_uri": "https://localhost:8080/",
          "height": 51
        },
        "outputId": "4e029de2-5406-4ea7-faec-c770dcc1bc52"
      },
      "source": [
        "%cd pix2pix-tensorflow\n",
        "!ls"
      ],
      "execution_count": 3,
      "outputs": [
        {
          "output_type": "stream",
          "text": [
            "/content/pix2pix-tensorflow\n",
            "docker\tdocs  LICENSE.txt  pix2pix.py  README.md  server  tools\n"
          ],
          "name": "stdout"
        }
      ]
    },
    {
      "cell_type": "code",
      "metadata": {
        "id": "K-wBYNjXspNO",
        "colab_type": "code",
        "colab": {
          "base_uri": "https://localhost:8080/",
          "height": 68
        },
        "outputId": "0ca473c6-3943-4d99-8715-d84fa8980578"
      },
      "source": [
        "!python tools/download-dataset.py facades"
      ],
      "execution_count": 4,
      "outputs": [
        {
          "output_type": "stream",
          "text": [
            "downloading https://people.eecs.berkeley.edu/~tinghuiz/projects/pix2pix/datasets/facades.tar.gz\n",
            "extracting\n",
            "done\n"
          ],
          "name": "stdout"
        }
      ]
    },
    {
      "cell_type": "code",
      "metadata": {
        "id": "MhOfU8h5svTJ",
        "colab_type": "code",
        "colab": {}
      },
      "source": [
        "#@title facadesサンプルの学習\n",
        "!python pix2pix.py \\\n",
        "  --mode train \\\n",
        "  --output_dir facades_train \\\n",
        "  --max_epochs 10 \\\n",
        "  --input_dir facades/train \\\n",
        "  --which_direction BtoA"
      ],
      "execution_count": 0,
      "outputs": []
    },
    {
      "cell_type": "code",
      "metadata": {
        "id": "Mz6fpjUAu3nx",
        "colab_type": "code",
        "colab": {}
      },
      "source": [
        "#@title 学習モデルのテスト\n",
        "!python pix2pix.py \\\n",
        "  --mode test \\\n",
        "  --output_dir facades_test \\\n",
        "  --input_dir facades/val \\\n",
        "  --checkpoint facades_train"
      ],
      "execution_count": 0,
      "outputs": []
    },
    {
      "cell_type": "code",
      "metadata": {
        "id": "iVRYZ9jiwrWD",
        "colab_type": "code",
        "colab": {
          "base_uri": "https://localhost:8080/",
          "height": 101
        },
        "outputId": "c3ade7a6-6b46-4333-90f9-d91afe0e27ea"
      },
      "source": [
        "#@title テストの結果を自分のDrive以下の\"school_mission_12/\"にコピー\n",
        "!pwd\n",
        "!ls\n",
        "!cp -r ./facades_test '/content/drive/My Drive/school_mission_12'\n",
        "!ls '/content/drive/My Drive/school_mission_12'\n"
      ],
      "execution_count": 27,
      "outputs": [
        {
          "output_type": "stream",
          "text": [
            "/content/pix2pix-tensorflow\n",
            "docker\tfacades       facades_train  pix2pix.py  server\n",
            "docs\tfacades_test  LICENSE.txt    README.md\t tools\n",
            "events.out.tfevents.1581415940.280e22789da2  graph.pbtxt  index.html\n",
            "facades_test\t\t\t\t     images\t  options.json\n"
          ],
          "name": "stdout"
        }
      ]
    },
    {
      "cell_type": "code",
      "metadata": {
        "id": "xgKjDchD1FXn",
        "colab_type": "code",
        "colab": {}
      },
      "source": [
        ""
      ],
      "execution_count": 0,
      "outputs": []
    }
  ]
}