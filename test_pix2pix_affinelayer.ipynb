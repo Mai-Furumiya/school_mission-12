{
  "nbformat": 4,
  "nbformat_minor": 0,
  "metadata": {
    "colab": {
      "name": "test_pix2pix_affinelayer.ipynb",
      "provenance": [],
      "collapsed_sections": [],
      "mount_file_id": "1YEizv_pn_XxI38VvH_b1SGEXkU_n5q0Z",
      "authorship_tag": "ABX9TyObPjxdqzLYsFAE7wHTn5bU",
      "include_colab_link": true
    },
    "kernelspec": {
      "name": "python3",
      "display_name": "Python 3"
    },
    "accelerator": "GPU"
  },
  "cells": [
    {
      "cell_type": "markdown",
      "metadata": {
        "id": "view-in-github",
        "colab_type": "text"
      },
      "source": [
        "<a href=\"https://colab.research.google.com/github/Sonochy/UoA_school_mission-12/blob/dev/test_pix2pix_affinelayer.ipynb\" target=\"_parent\"><img src=\"https://colab.research.google.com/assets/colab-badge.svg\" alt=\"Open In Colab\"/></a>"
      ]
    },
    {
      "cell_type": "markdown",
      "metadata": {
        "id": "fMW0w8xQY3fm",
        "colab_type": "text"
      },
      "source": [
        "## [惑星探査育英会　第十二回実習会](https://www.cps-jp.org/~tansaku/wiki/top/?school_mission-12)\n",
        "pix2pixを用いたsemantic segmentation"
      ]
    },
    {
      "cell_type": "markdown",
      "metadata": {
        "id": "fC3wz96Nac_j",
        "colab_type": "text"
      },
      "source": [
        "## 参考URL\n",
        "\n",
        "\n",
        "\n",
        "*   [Colaboratory へようこそ](https://colab.research.google.com/notebooks/welcome.ipynb?hl=ja#scrollTo=-Rh3-Vt9Nev9)\n",
        "*   [Google Colaboratoryでpix2pixを動かしてみる。](https://qiita.com/simonritchie/items/09b2810f0bcf12305719)\n",
        "*   [Google Colaboratory での Terminal 操作](https://qiita.com/shirobu2400/items/2fad1d24053b7cb35547)\n",
        "*   [Google Colaboratoryをもっと便利に使いたい](https://karaage.hatenadiary.jp/entry/2018/12/17/073000)\n",
        "\n",
        "\n",
        "\n",
        "\n",
        "\n",
        "\n",
        "\n",
        "\n",
        "\n"
      ]
    },
    {
      "cell_type": "markdown",
      "metadata": {
        "id": "RR0q7zoPgT48",
        "colab_type": "text"
      },
      "source": [
        "## スペック確認"
      ]
    },
    {
      "cell_type": "code",
      "metadata": {
        "id": "TUv4FNzMd7Bj",
        "colab_type": "code",
        "colab": {}
      },
      "source": [
        "#@title OS確認\n",
        "!cat /etc/issue"
      ],
      "execution_count": 0,
      "outputs": []
    },
    {
      "cell_type": "code",
      "metadata": {
        "id": "0fNRw5qed-n9",
        "colab_type": "code",
        "colab": {}
      },
      "source": [
        "#@title メモリ確認\n",
        "!free -h"
      ],
      "execution_count": 0,
      "outputs": []
    },
    {
      "cell_type": "code",
      "metadata": {
        "id": "fSG9aRtLefXm",
        "colab_type": "code",
        "colab": {}
      },
      "source": [
        "#@title CPUのスペック確認\n",
        "!cat /proc/cpuinfo "
      ],
      "execution_count": 0,
      "outputs": []
    },
    {
      "cell_type": "code",
      "metadata": {
        "id": "niVkodvLeofW",
        "colab_type": "code",
        "colab": {}
      },
      "source": [
        "#@title GPUのスペック確認\n",
        "!cat /proc/driver/nvidia/gpus/0000:00:04.0/information"
      ],
      "execution_count": 0,
      "outputs": []
    },
    {
      "cell_type": "code",
      "metadata": {
        "id": "uFQSrVO6fLFP",
        "colab_type": "code",
        "colab": {}
      },
      "source": [
        "#@title Google Colabの起動してからの時間確認\n",
        "!cat /proc/uptime | awk '{print $1 /60 /60 /24 \"days (\" $1 \"sec)\"}'"
      ],
      "execution_count": 0,
      "outputs": []
    },
    {
      "cell_type": "markdown",
      "metadata": {
        "id": "R32JYT8msXva",
        "colab_type": "text"
      },
      "source": [
        "## ライブラリ Install"
      ]
    },
    {
      "cell_type": "code",
      "metadata": {
        "id": "KG0cMk2GsbTz",
        "colab_type": "code",
        "colab": {}
      },
      "source": [
        ""
      ],
      "execution_count": 0,
      "outputs": []
    },
    {
      "cell_type": "markdown",
      "metadata": {
        "id": "1WT5rMftqEC7",
        "colab_type": "text"
      },
      "source": [
        "## ドライブにマウント"
      ]
    },
    {
      "cell_type": "code",
      "metadata": {
        "id": "LK_pb9HIpR9t",
        "colab_type": "code",
        "cellView": "both",
        "colab": {}
      },
      "source": [
        "from google.colab import drive\n",
        "drive.mount('/content/drive')"
      ],
      "execution_count": 0,
      "outputs": []
    },
    {
      "cell_type": "markdown",
      "metadata": {
        "id": "4qlbwsF4fbd0",
        "colab_type": "text"
      },
      "source": [
        "## pix2pixのサンプル実行"
      ]
    },
    {
      "cell_type": "code",
      "metadata": {
        "id": "ISyIUeYrjml4",
        "colab_type": "code",
        "colab": {}
      },
      "source": [
        "!pwd\n",
        "!ls"
      ],
      "execution_count": 0,
      "outputs": []
    },
    {
      "cell_type": "code",
      "metadata": {
        "id": "WfBY4g5Ni7za",
        "colab_type": "code",
        "colab": {}
      },
      "source": [
        "!git clone https://github.com/affinelayer/pix2pix-tensorflow.git"
      ],
      "execution_count": 0,
      "outputs": []
    },
    {
      "cell_type": "code",
      "metadata": {
        "id": "rcaSoOKqoUgj",
        "colab_type": "code",
        "colab": {}
      },
      "source": [
        "%cd pix2pix-tensorflow\n",
        "!ls"
      ],
      "execution_count": 0,
      "outputs": []
    },
    {
      "cell_type": "code",
      "metadata": {
        "id": "K-wBYNjXspNO",
        "colab_type": "code",
        "colab": {}
      },
      "source": [
        "!python tools/download-dataset.py facades"
      ],
      "execution_count": 0,
      "outputs": []
    },
    {
      "cell_type": "code",
      "metadata": {
        "id": "MhOfU8h5svTJ",
        "colab_type": "code",
        "colab": {}
      },
      "source": [
        "#@title facadesサンプルの学習\n",
        "!python pix2pix.py \\\n",
        "  --mode train \\\n",
        "  --output_dir facades_train \\\n",
        "  --max_epochs 10 \\\n",
        "  --input_dir facades/train \\\n",
        "  --which_direction BtoA"
      ],
      "execution_count": 0,
      "outputs": []
    },
    {
      "cell_type": "code",
      "metadata": {
        "id": "Mz6fpjUAu3nx",
        "colab_type": "code",
        "colab": {}
      },
      "source": [
        "#@title 学習モデルのテスト\n",
        "!python pix2pix.py \\\n",
        "  --mode test \\\n",
        "  --output_dir facades_test \\\n",
        "  --input_dir facades/val \\\n",
        "  --checkpoint facades_train"
      ],
      "execution_count": 0,
      "outputs": []
    },
    {
      "cell_type": "code",
      "metadata": {
        "id": "iVRYZ9jiwrWD",
        "colab_type": "code",
        "outputId": "c3ade7a6-6b46-4333-90f9-d91afe0e27ea",
        "colab": {
          "base_uri": "https://localhost:8080/",
          "height": 101
        }
      },
      "source": [
        "#@title テストの結果を自分のDrive以下の\"school_mission_12/\"にコピー\n",
        "!pwd\n",
        "!ls\n",
        "!cp -r ./facades_test '/content/drive/My Drive/school_mission_12'\n",
        "!ls '/content/drive/My Drive/school_mission_12'\n"
      ],
      "execution_count": 0,
      "outputs": [
        {
          "output_type": "stream",
          "text": [
            "/content/pix2pix-tensorflow\n",
            "docker\tfacades       facades_train  pix2pix.py  server\n",
            "docs\tfacades_test  LICENSE.txt    README.md\t tools\n",
            "events.out.tfevents.1581415940.280e22789da2  graph.pbtxt  index.html\n",
            "facades_test\t\t\t\t     images\t  options.json\n"
          ],
          "name": "stdout"
        }
      ]
    },
    {
      "cell_type": "code",
      "metadata": {
        "id": "xgKjDchD1FXn",
        "colab_type": "code",
        "colab": {}
      },
      "source": [
        ""
      ],
      "execution_count": 0,
      "outputs": []
    }
  ]
}