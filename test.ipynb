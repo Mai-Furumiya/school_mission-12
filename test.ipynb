{
  "nbformat": 4,
  "nbformat_minor": 0,
  "metadata": {
    "colab": {
      "name": "test.ipynb",
      "provenance": [],
      "collapsed_sections": [],
      "authorship_tag": "ABX9TyMNsodHC1HwgUrxrj7mCipY",
      "include_colab_link": true
    },
    "kernelspec": {
      "name": "python3",
      "display_name": "Python 3"
    },
    "accelerator": "GPU"
  },
  "cells": [
    {
      "cell_type": "markdown",
      "metadata": {
        "id": "view-in-github",
        "colab_type": "text"
      },
      "source": [
        "<a href=\"https://colab.research.google.com/github/Sonochy/UoA_school_mission-12/blob/dev/test.ipynb\" target=\"_parent\"><img src=\"https://colab.research.google.com/assets/colab-badge.svg\" alt=\"Open In Colab\"/></a>"
      ]
    },
    {
      "cell_type": "markdown",
      "metadata": {
        "id": "fMW0w8xQY3fm",
        "colab_type": "text"
      },
      "source": [
        "[実習会](https://www.cps-jp.org/~tansaku/wiki/top/?school_mission-12)"
      ]
    },
    {
      "cell_type": "markdown",
      "metadata": {
        "id": "fC3wz96Nac_j",
        "colab_type": "text"
      },
      "source": [
        "参考URL\n",
        "\n",
        "[Google Colaboratoryでpix2pixを動かしてみる。](https://qiita.com/simonritchie/items/09b2810f0bcf12305719)\n",
        "\n",
        "[Google Colaboratory での Terminal 操作](https://qiita.com/shirobu2400/items/2fad1d24053b7cb35547)"
      ]
    },
    {
      "cell_type": "code",
      "metadata": {
        "id": "WfBY4g5Ni7za",
        "colab_type": "code",
        "outputId": "5284ee03-7421-4ef9-c6e3-7cc763264978",
        "colab": {
          "base_uri": "https://localhost:8080/",
          "height": 143
        }
      },
      "source": [
        "!git clone https://github.com/phillipi/pix2pix.git"
      ],
      "execution_count": 0,
      "outputs": [
        {
          "output_type": "stream",
          "text": [
            "Cloning into 'pix2pix'...\n",
            "remote: Enumerating objects: 13, done.\u001b[K\n",
            "remote: Counting objects: 100% (13/13), done.\u001b[K\n",
            "remote: Compressing objects: 100% (12/12), done.\u001b[K\n",
            "remote: Total 470 (delta 1), reused 6 (delta 1), pack-reused 457\u001b[K\n",
            "Receiving objects: 100% (470/470), 2.44 MiB | 29.74 MiB/s, done.\n",
            "Resolving deltas: 100% (251/251), done.\n"
          ],
          "name": "stdout"
        }
      ]
    },
    {
      "cell_type": "markdown",
      "metadata": {
        "id": "NAJ76K0ukHY7",
        "colab_type": "text"
      },
      "source": [
        ""
      ]
    },
    {
      "cell_type": "code",
      "metadata": {
        "id": "6PDA23jwY7L7",
        "colab_type": "code",
        "outputId": "4d0b81ad-0a1f-4ed0-ece8-ab73cf7b8636",
        "colab": {
          "base_uri": "https://localhost:8080/",
          "height": 107
        }
      },
      "source": [
        "!git clone https://github.com/tdeboissiere/DeepLearningImplementations.git"
      ],
      "execution_count": 0,
      "outputs": [
        {
          "output_type": "stream",
          "text": [
            "Cloning into 'DeepLearningImplementations'...\n",
            "remote: Enumerating objects: 1616, done.\u001b[K\n",
            "remote: Total 1616 (delta 0), reused 0 (delta 0), pack-reused 1616\u001b[K\n",
            "Receiving objects: 100% (1616/1616), 50.34 MiB | 45.98 MiB/s, done.\n",
            "Resolving deltas: 100% (754/754), done.\n"
          ],
          "name": "stdout"
        }
      ]
    }
  ]
}