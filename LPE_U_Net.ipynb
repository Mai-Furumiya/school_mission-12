{
  "nbformat": 4,
  "nbformat_minor": 0,
  "metadata": {
    "colab": {
      "name": "LPE_U-Net.ipynb",
      "provenance": [],
      "collapsed_sections": [],
      "authorship_tag": "ABX9TyO05dBeZxZUPYYb83y7iIGe",
      "include_colab_link": true
    },
    "kernelspec": {
      "name": "python3",
      "display_name": "Python 3"
    },
    "accelerator": "GPU"
  },
  "cells": [
    {
      "cell_type": "markdown",
      "metadata": {
        "id": "view-in-github",
        "colab_type": "text"
      },
      "source": [
        "<a href=\"https://colab.research.google.com/github/Sonochy/UoA_school_mission-12/blob/dev_UNet/LPE_U_Net.ipynb\" target=\"_parent\"><img src=\"https://colab.research.google.com/assets/colab-badge.svg\" alt=\"Open In Colab\"/></a>"
      ]
    },
    {
      "cell_type": "markdown",
      "metadata": {
        "id": "Q5du9G3uLR-I",
        "colab_type": "text"
      },
      "source": [
        "## [惑星探査育英会　第十二回実習会](https://www.cps-jp.org/~tansaku/wiki/top/?school_mission-12)\n",
        "pix2pixを用いたsemantic segmentation"
      ]
    },
    {
      "cell_type": "markdown",
      "metadata": {
        "id": "KVu88p4TLbcZ",
        "colab_type": "text"
      },
      "source": [
        ""
      ]
    },
    {
      "cell_type": "markdown",
      "metadata": {
        "id": "N7_SPw3bLbna",
        "colab_type": "text"
      },
      "source": [
        "## 参考URL\n",
        "\n",
        "\n",
        "\n",
        "*   [Colaboratory へようこそ](https://colab.research.google.com/notebooks/welcome.ipynb?hl=ja#scrollTo=-Rh3-Vt9Nev9)\n",
        "*   [Google Colaboratoryでpix2pixを動かしてみる。](https://qiita.com/simonritchie/items/09b2810f0bcf12305719)\n",
        "*   [Google Colaboratory での Terminal 操作](https://qiita.com/shirobu2400/items/2fad1d24053b7cb35547)\n",
        "*   [Google Colaboratoryをもっと便利に使いたい](https://karaage.hatenadiary.jp/entry/2018/12/17/073000)\n",
        "*   [Image Segmentation with tf.keras](https://colab.research.google.com/github/tensorflow/models/blob/master/samples/outreach/blogs/segmentation_blogpost/image_segmentation.ipynb#scrollTo=cl79rk4KKol8)\n",
        "*   リスト項目\n"
      ]
    },
    {
      "cell_type": "markdown",
      "metadata": {
        "id": "lgD4PS58LzQE",
        "colab_type": "text"
      },
      "source": [
        "## スペック確認"
      ]
    },
    {
      "cell_type": "markdown",
      "metadata": {
        "id": "8bvF3XPvLzTc",
        "colab_type": "text"
      },
      "source": [
        "カレントディレクトリ確認"
      ]
    },
    {
      "cell_type": "code",
      "metadata": {
        "id": "nAhS9oBqLKaA",
        "colab_type": "code",
        "outputId": "14b76473-8c34-4af1-b000-53e451af2889",
        "colab": {
          "base_uri": "https://localhost:8080/",
          "height": 51
        }
      },
      "source": [
        "!pwd\n",
        "!ls"
      ],
      "execution_count": 0,
      "outputs": [
        {
          "output_type": "stream",
          "text": [
            "/content\n",
            "sample_data\n"
          ],
          "name": "stdout"
        }
      ]
    },
    {
      "cell_type": "markdown",
      "metadata": {
        "id": "3eOC4HhhMqgC",
        "colab_type": "text"
      },
      "source": [
        "OS確認"
      ]
    },
    {
      "cell_type": "code",
      "metadata": {
        "id": "91oCKaGoMlSJ",
        "colab_type": "code",
        "outputId": "651ff111-cbb0-432c-d265-82f99fcd9def",
        "colab": {
          "base_uri": "https://localhost:8080/",
          "height": 51
        }
      },
      "source": [
        "!cat /etc/issue"
      ],
      "execution_count": 0,
      "outputs": [
        {
          "output_type": "stream",
          "text": [
            "Ubuntu 18.04.3 LTS \\n \\l\n",
            "\n"
          ],
          "name": "stdout"
        }
      ]
    },
    {
      "cell_type": "markdown",
      "metadata": {
        "id": "bsrb1AYjM2wT",
        "colab_type": "text"
      },
      "source": [
        "メモリ確認"
      ]
    },
    {
      "cell_type": "code",
      "metadata": {
        "id": "6Z-nunTbM4i0",
        "colab_type": "code",
        "outputId": "1a7e543b-50ff-4159-e52b-ccb46aa152fe",
        "colab": {
          "base_uri": "https://localhost:8080/",
          "height": 68
        }
      },
      "source": [
        "!free -h"
      ],
      "execution_count": 0,
      "outputs": [
        {
          "output_type": "stream",
          "text": [
            "              total        used        free      shared  buff/cache   available\n",
            "Mem:            12G        558M         10G        904K        2.0G         11G\n",
            "Swap:            0B          0B          0B\n"
          ],
          "name": "stdout"
        }
      ]
    },
    {
      "cell_type": "code",
      "metadata": {
        "id": "fSG9aRtLefXm",
        "colab_type": "code",
        "outputId": "09dc52fd-04c2-4274-8045-4c33983a0897",
        "colab": {
          "base_uri": "https://localhost:8080/",
          "height": 955
        }
      },
      "source": [
        "!cat /proc/cpuinfo "
      ],
      "execution_count": 0,
      "outputs": [
        {
          "output_type": "stream",
          "text": [
            "processor\t: 0\n",
            "vendor_id\t: GenuineIntel\n",
            "cpu family\t: 6\n",
            "model\t\t: 79\n",
            "model name\t: Intel(R) Xeon(R) CPU @ 2.20GHz\n",
            "stepping\t: 0\n",
            "microcode\t: 0x1\n",
            "cpu MHz\t\t: 2200.000\n",
            "cache size\t: 56320 KB\n",
            "physical id\t: 0\n",
            "siblings\t: 2\n",
            "core id\t\t: 0\n",
            "cpu cores\t: 1\n",
            "apicid\t\t: 0\n",
            "initial apicid\t: 0\n",
            "fpu\t\t: yes\n",
            "fpu_exception\t: yes\n",
            "cpuid level\t: 13\n",
            "wp\t\t: yes\n",
            "flags\t\t: fpu vme de pse tsc msr pae mce cx8 apic sep mtrr pge mca cmov pat pse36 clflush mmx fxsr sse sse2 ss ht syscall nx pdpe1gb rdtscp lm constant_tsc rep_good nopl xtopology nonstop_tsc cpuid tsc_known_freq pni pclmulqdq ssse3 fma cx16 pcid sse4_1 sse4_2 x2apic movbe popcnt aes xsave avx f16c rdrand hypervisor lahf_lm abm 3dnowprefetch invpcid_single ssbd ibrs ibpb stibp fsgsbase tsc_adjust bmi1 hle avx2 smep bmi2 erms invpcid rtm rdseed adx smap xsaveopt arat md_clear arch_capabilities\n",
            "bugs\t\t: cpu_meltdown spectre_v1 spectre_v2 spec_store_bypass l1tf mds swapgs\n",
            "bogomips\t: 4400.00\n",
            "clflush size\t: 64\n",
            "cache_alignment\t: 64\n",
            "address sizes\t: 46 bits physical, 48 bits virtual\n",
            "power management:\n",
            "\n",
            "processor\t: 1\n",
            "vendor_id\t: GenuineIntel\n",
            "cpu family\t: 6\n",
            "model\t\t: 79\n",
            "model name\t: Intel(R) Xeon(R) CPU @ 2.20GHz\n",
            "stepping\t: 0\n",
            "microcode\t: 0x1\n",
            "cpu MHz\t\t: 2200.000\n",
            "cache size\t: 56320 KB\n",
            "physical id\t: 0\n",
            "siblings\t: 2\n",
            "core id\t\t: 0\n",
            "cpu cores\t: 1\n",
            "apicid\t\t: 1\n",
            "initial apicid\t: 1\n",
            "fpu\t\t: yes\n",
            "fpu_exception\t: yes\n",
            "cpuid level\t: 13\n",
            "wp\t\t: yes\n",
            "flags\t\t: fpu vme de pse tsc msr pae mce cx8 apic sep mtrr pge mca cmov pat pse36 clflush mmx fxsr sse sse2 ss ht syscall nx pdpe1gb rdtscp lm constant_tsc rep_good nopl xtopology nonstop_tsc cpuid tsc_known_freq pni pclmulqdq ssse3 fma cx16 pcid sse4_1 sse4_2 x2apic movbe popcnt aes xsave avx f16c rdrand hypervisor lahf_lm abm 3dnowprefetch invpcid_single ssbd ibrs ibpb stibp fsgsbase tsc_adjust bmi1 hle avx2 smep bmi2 erms invpcid rtm rdseed adx smap xsaveopt arat md_clear arch_capabilities\n",
            "bugs\t\t: cpu_meltdown spectre_v1 spectre_v2 spec_store_bypass l1tf mds swapgs\n",
            "bogomips\t: 4400.00\n",
            "clflush size\t: 64\n",
            "cache_alignment\t: 64\n",
            "address sizes\t: 46 bits physical, 48 bits virtual\n",
            "power management:\n",
            "\n"
          ],
          "name": "stdout"
        }
      ]
    },
    {
      "cell_type": "markdown",
      "metadata": {
        "id": "xsfp81NdE5_l",
        "colab_type": "text"
      },
      "source": [
        " GPUのスペック確認"
      ]
    },
    {
      "cell_type": "code",
      "metadata": {
        "id": "niVkodvLeofW",
        "colab_type": "code",
        "outputId": "a8282110-b58e-4b9c-d5fa-5fb71dc56efc",
        "colab": {
          "base_uri": "https://localhost:8080/",
          "height": 187
        }
      },
      "source": [
        "!cat /proc/driver/nvidia/gpus/0000:00:04.0/information"
      ],
      "execution_count": 0,
      "outputs": [
        {
          "output_type": "stream",
          "text": [
            "Model: \t\t Tesla P100-PCIE-16GB\n",
            "IRQ:   \t\t 35\n",
            "GPU UUID: \t GPU-00aedabe-61ae-5b46-13a7-cef1e80a5be8\n",
            "Video BIOS: \t 86.00.4d.00.01\n",
            "Bus Type: \t PCI\n",
            "DMA Size: \t 47 bits\n",
            "DMA Mask: \t 0x7fffffffffff\n",
            "Bus Location: \t 0000:00:04.0\n",
            "Device Minor: \t 0\n",
            "Blacklisted:\t No\n"
          ],
          "name": "stdout"
        }
      ]
    },
    {
      "cell_type": "markdown",
      "metadata": {
        "id": "yyevdqgBE8Pg",
        "colab_type": "text"
      },
      "source": [
        "Google Colabの起動してからの時間確認"
      ]
    },
    {
      "cell_type": "code",
      "metadata": {
        "id": "uFQSrVO6fLFP",
        "colab_type": "code",
        "outputId": "e8213a19-5308-46f4-a4ee-a8ca2f1ab7c5",
        "colab": {
          "base_uri": "https://localhost:8080/",
          "height": 34
        }
      },
      "source": [
        "!cat /proc/uptime | awk '{print $1 /60 /60 /24 \"days (\" $1 \"sec)\"}'"
      ],
      "execution_count": 0,
      "outputs": [
        {
          "output_type": "stream",
          "text": [
            "0.00316887days (273.79sec)\n"
          ],
          "name": "stdout"
        }
      ]
    },
    {
      "cell_type": "markdown",
      "metadata": {
        "id": "R32JYT8msXva",
        "colab_type": "text"
      },
      "source": [
        "## ライブラリ Install"
      ]
    },
    {
      "cell_type": "code",
      "metadata": {
        "id": "pAPhkcN9Nh7v",
        "colab_type": "code",
        "colab": {
          "base_uri": "https://localhost:8080/",
          "height": 649
        },
        "outputId": "828b71fb-9f65-4532-b1d9-ea1f41b58902"
      },
      "source": [
        "pip install tensorflow-gpu==1.13.1"
      ],
      "execution_count": 69,
      "outputs": [
        {
          "output_type": "stream",
          "text": [
            "Collecting tensorflow-gpu==1.13.1\n",
            "\u001b[?25l  Downloading https://files.pythonhosted.org/packages/7b/b1/0ad4ae02e17ddd62109cd54c291e311c4b5fd09b4d0678d3d6ce4159b0f0/tensorflow_gpu-1.13.1-cp36-cp36m-manylinux1_x86_64.whl (345.2MB)\n",
            "\u001b[K     |████████████████████████████████| 345.2MB 39kB/s \n",
            "\u001b[?25hRequirement already satisfied: gast>=0.2.0 in /usr/local/lib/python3.6/dist-packages (from tensorflow-gpu==1.13.1) (0.2.2)\n",
            "Requirement already satisfied: protobuf>=3.6.1 in /usr/local/lib/python3.6/dist-packages (from tensorflow-gpu==1.13.1) (3.10.0)\n",
            "Collecting tensorboard<1.14.0,>=1.13.0\n",
            "\u001b[?25l  Downloading https://files.pythonhosted.org/packages/0f/39/bdd75b08a6fba41f098b6cb091b9e8c7a80e1b4d679a581a0ccd17b10373/tensorboard-1.13.1-py3-none-any.whl (3.2MB)\n",
            "\u001b[K     |████████████████████████████████| 3.2MB 48.8MB/s \n",
            "\u001b[?25hRequirement already satisfied: grpcio>=1.8.6 in /usr/local/lib/python3.6/dist-packages (from tensorflow-gpu==1.13.1) (1.27.1)\n",
            "Requirement already satisfied: numpy>=1.13.3 in /usr/local/lib/python3.6/dist-packages (from tensorflow-gpu==1.13.1) (1.17.5)\n",
            "Requirement already satisfied: six>=1.10.0 in /usr/local/lib/python3.6/dist-packages (from tensorflow-gpu==1.13.1) (1.12.0)\n",
            "Requirement already satisfied: wheel>=0.26 in /usr/local/lib/python3.6/dist-packages (from tensorflow-gpu==1.13.1) (0.34.2)\n",
            "Requirement already satisfied: termcolor>=1.1.0 in /usr/local/lib/python3.6/dist-packages (from tensorflow-gpu==1.13.1) (1.1.0)\n",
            "Requirement already satisfied: keras-preprocessing>=1.0.5 in /usr/local/lib/python3.6/dist-packages (from tensorflow-gpu==1.13.1) (1.1.0)\n",
            "Requirement already satisfied: astor>=0.6.0 in /usr/local/lib/python3.6/dist-packages (from tensorflow-gpu==1.13.1) (0.8.1)\n",
            "Requirement already satisfied: absl-py>=0.1.6 in /usr/local/lib/python3.6/dist-packages (from tensorflow-gpu==1.13.1) (0.9.0)\n",
            "Collecting tensorflow-estimator<1.14.0rc0,>=1.13.0\n",
            "\u001b[?25l  Downloading https://files.pythonhosted.org/packages/bb/48/13f49fc3fa0fdf916aa1419013bb8f2ad09674c275b4046d5ee669a46873/tensorflow_estimator-1.13.0-py2.py3-none-any.whl (367kB)\n",
            "\u001b[K     |████████████████████████████████| 368kB 57.0MB/s \n",
            "\u001b[?25hRequirement already satisfied: keras-applications>=1.0.6 in /usr/local/lib/python3.6/dist-packages (from tensorflow-gpu==1.13.1) (1.0.8)\n",
            "Requirement already satisfied: setuptools in /usr/local/lib/python3.6/dist-packages (from protobuf>=3.6.1->tensorflow-gpu==1.13.1) (45.1.0)\n",
            "Requirement already satisfied: markdown>=2.6.8 in /usr/local/lib/python3.6/dist-packages (from tensorboard<1.14.0,>=1.13.0->tensorflow-gpu==1.13.1) (3.2.1)\n",
            "Requirement already satisfied: werkzeug>=0.11.15 in /usr/local/lib/python3.6/dist-packages (from tensorboard<1.14.0,>=1.13.0->tensorflow-gpu==1.13.1) (1.0.0)\n",
            "Collecting mock>=2.0.0\n",
            "  Downloading https://files.pythonhosted.org/packages/30/6a/9bde648117ec7087c89a45de0a8b25aba21d54d3defd08cb24eacded875f/mock-4.0.1-py3-none-any.whl\n",
            "Requirement already satisfied: h5py in /usr/local/lib/python3.6/dist-packages (from keras-applications>=1.0.6->tensorflow-gpu==1.13.1) (2.8.0)\n",
            "\u001b[31mERROR: tensorflow 1.15.0 has requirement tensorboard<1.16.0,>=1.15.0, but you'll have tensorboard 1.13.1 which is incompatible.\u001b[0m\n",
            "\u001b[31mERROR: tensorflow 1.15.0 has requirement tensorflow-estimator==1.15.1, but you'll have tensorflow-estimator 1.13.0 which is incompatible.\u001b[0m\n",
            "Installing collected packages: tensorboard, mock, tensorflow-estimator, tensorflow-gpu\n",
            "  Found existing installation: tensorboard 1.15.0\n",
            "    Uninstalling tensorboard-1.15.0:\n",
            "      Successfully uninstalled tensorboard-1.15.0\n",
            "  Found existing installation: tensorflow-estimator 1.15.1\n",
            "    Uninstalling tensorflow-estimator-1.15.1:\n",
            "      Successfully uninstalled tensorflow-estimator-1.15.1\n",
            "Successfully installed mock-4.0.1 tensorboard-1.13.1 tensorflow-estimator-1.13.0 tensorflow-gpu-1.13.1\n"
          ],
          "name": "stdout"
        }
      ]
    },
    {
      "cell_type": "code",
      "metadata": {
        "id": "sbMMsbV-vc2v",
        "colab_type": "code",
        "colab": {
          "base_uri": "https://localhost:8080/",
          "height": 304
        },
        "outputId": "b04ccfda-3dca-4eae-ea04-1a1eb7b19674"
      },
      "source": [
        "import tensorflow as tf\n",
        "print(tf.__version__)"
      ],
      "execution_count": 70,
      "outputs": [
        {
          "output_type": "stream",
          "text": [
            "/usr/local/lib/python3.6/dist-packages/tensorflow/python/framework/dtypes.py:526: FutureWarning: Passing (type, 1) or '1type' as a synonym of type is deprecated; in a future version of numpy, it will be understood as (type, (1,)) / '(1,)type'.\n",
            "  _np_qint8 = np.dtype([(\"qint8\", np.int8, 1)])\n",
            "/usr/local/lib/python3.6/dist-packages/tensorflow/python/framework/dtypes.py:527: FutureWarning: Passing (type, 1) or '1type' as a synonym of type is deprecated; in a future version of numpy, it will be understood as (type, (1,)) / '(1,)type'.\n",
            "  _np_quint8 = np.dtype([(\"quint8\", np.uint8, 1)])\n",
            "/usr/local/lib/python3.6/dist-packages/tensorflow/python/framework/dtypes.py:528: FutureWarning: Passing (type, 1) or '1type' as a synonym of type is deprecated; in a future version of numpy, it will be understood as (type, (1,)) / '(1,)type'.\n",
            "  _np_qint16 = np.dtype([(\"qint16\", np.int16, 1)])\n",
            "/usr/local/lib/python3.6/dist-packages/tensorflow/python/framework/dtypes.py:529: FutureWarning: Passing (type, 1) or '1type' as a synonym of type is deprecated; in a future version of numpy, it will be understood as (type, (1,)) / '(1,)type'.\n",
            "  _np_quint16 = np.dtype([(\"quint16\", np.uint16, 1)])\n",
            "/usr/local/lib/python3.6/dist-packages/tensorflow/python/framework/dtypes.py:530: FutureWarning: Passing (type, 1) or '1type' as a synonym of type is deprecated; in a future version of numpy, it will be understood as (type, (1,)) / '(1,)type'.\n",
            "  _np_qint32 = np.dtype([(\"qint32\", np.int32, 1)])\n",
            "/usr/local/lib/python3.6/dist-packages/tensorflow/python/framework/dtypes.py:535: FutureWarning: Passing (type, 1) or '1type' as a synonym of type is deprecated; in a future version of numpy, it will be understood as (type, (1,)) / '(1,)type'.\n",
            "  np_resource = np.dtype([(\"resource\", np.ubyte, 1)])\n"
          ],
          "name": "stderr"
        },
        {
          "output_type": "display_data",
          "data": {
            "text/html": [
              "<p style=\"color: red;\">\n",
              "The default version of TensorFlow in Colab will soon switch to TensorFlow 2.x.<br>\n",
              "We recommend you <a href=\"https://www.tensorflow.org/guide/migrate\" target=\"_blank\">upgrade</a> now \n",
              "or ensure your notebook will continue to use TensorFlow 1.x via the <code>%tensorflow_version 1.x</code> magic:\n",
              "<a href=\"https://colab.research.google.com/notebooks/tensorflow_version.ipynb\" target=\"_blank\">more info</a>.</p>\n"
            ],
            "text/plain": [
              "<IPython.core.display.HTML object>"
            ]
          },
          "metadata": {
            "tags": []
          }
        },
        {
          "output_type": "stream",
          "text": [
            "1.13.1\n"
          ],
          "name": "stdout"
        }
      ]
    },
    {
      "cell_type": "markdown",
      "metadata": {
        "id": "1WT5rMftqEC7",
        "colab_type": "text"
      },
      "source": [
        "## ドライブにマウント"
      ]
    },
    {
      "cell_type": "code",
      "metadata": {
        "id": "r8KrWmS5NpFc",
        "colab_type": "code",
        "colab": {}
      },
      "source": [
        ""
      ],
      "execution_count": 0,
      "outputs": []
    },
    {
      "cell_type": "code",
      "metadata": {
        "id": "9OoP6xz2NvLr",
        "colab_type": "code",
        "outputId": "8a4c6f4d-6971-4262-9e66-bdaeee5efe1b",
        "colab": {
          "base_uri": "https://localhost:8080/",
          "height": 122
        }
      },
      "source": [
        "from google.colab import drive\n",
        "drive.mount('/content/drive')"
      ],
      "execution_count": 1,
      "outputs": [
        {
          "output_type": "stream",
          "text": [
            "Go to this URL in a browser: https://accounts.google.com/o/oauth2/auth?client_id=947318989803-6bn6qk8qdgf4n4g3pfee6491hc0brc4i.apps.googleusercontent.com&redirect_uri=urn%3aietf%3awg%3aoauth%3a2.0%3aoob&response_type=code&scope=email%20https%3a%2f%2fwww.googleapis.com%2fauth%2fdocs.test%20https%3a%2f%2fwww.googleapis.com%2fauth%2fdrive%20https%3a%2f%2fwww.googleapis.com%2fauth%2fdrive.photos.readonly%20https%3a%2f%2fwww.googleapis.com%2fauth%2fpeopleapi.readonly\n",
            "\n",
            "Enter your authorization code:\n",
            "··········\n",
            "Mounted at /content/drive\n"
          ],
          "name": "stdout"
        }
      ]
    },
    {
      "cell_type": "code",
      "metadata": {
        "id": "PIYC2tzrOBJC",
        "colab_type": "code",
        "colab": {
          "base_uri": "https://localhost:8080/",
          "height": 34
        },
        "outputId": "750531c8-2a51-4a63-9fdf-7a7e5f5910dd"
      },
      "source": [
        "!ls"
      ],
      "execution_count": 2,
      "outputs": [
        {
          "output_type": "stream",
          "text": [
            "drive  sample_data\n"
          ],
          "name": "stdout"
        }
      ]
    },
    {
      "cell_type": "code",
      "metadata": {
        "id": "ba2rJW4vZmLZ",
        "colab_type": "code",
        "colab": {
          "base_uri": "https://localhost:8080/",
          "height": 34
        },
        "outputId": "4b9dbe47-2938-4383-fee4-59b42b565712"
      },
      "source": [
        "% cd drive/'My Drive'/"
      ],
      "execution_count": 8,
      "outputs": [
        {
          "output_type": "stream",
          "text": [
            "/content/drive/My Drive\n"
          ],
          "name": "stdout"
        }
      ]
    },
    {
      "cell_type": "code",
      "metadata": {
        "id": "YXE1bOeKaAvp",
        "colab_type": "code",
        "colab": {
          "base_uri": "https://localhost:8080/",
          "height": 119
        },
        "outputId": "c4400291-138f-4665-a458-6cf41974b9a7"
      },
      "source": [
        "! git clone https://github.com/IsHYuhi/LPE_U-Net.git"
      ],
      "execution_count": 14,
      "outputs": [
        {
          "output_type": "stream",
          "text": [
            "Cloning into 'LPE_U-Net'...\n",
            "remote: Enumerating objects: 19, done.\u001b[K\n",
            "remote: Counting objects: 100% (19/19), done.\u001b[K\n",
            "remote: Compressing objects: 100% (15/15), done.\u001b[K\n",
            "remote: Total 19 (delta 1), reused 18 (delta 0), pack-reused 0\u001b[K\n",
            "Unpacking objects: 100% (19/19), done.\n"
          ],
          "name": "stdout"
        }
      ]
    },
    {
      "cell_type": "code",
      "metadata": {
        "id": "dJ-zNVBRcbrV",
        "colab_type": "code",
        "colab": {
          "base_uri": "https://localhost:8080/",
          "height": 34
        },
        "outputId": "f2b92468-e414-458e-80a4-83e3099409a0"
      },
      "source": [
        "% cd LPE_U-Net/"
      ],
      "execution_count": 15,
      "outputs": [
        {
          "output_type": "stream",
          "text": [
            "/content/drive/My Drive/LPE_U-Net\n"
          ],
          "name": "stdout"
        }
      ]
    },
    {
      "cell_type": "code",
      "metadata": {
        "id": "Z4xHb-FeblYv",
        "colab_type": "code",
        "colab": {
          "base_uri": "https://localhost:8080/",
          "height": 85
        },
        "outputId": "6519ba10-270c-4fbe-f2c0-9a544891b1b0"
      },
      "source": [
        "%%shell\n",
        "FILE_ID=1V26DTgb7WHcIskYvcJ40urmqK9zTJ0Co\n",
        "FILE_NAME=data_set.zip\n",
        "curl -sc /tmp/cookie \"https://drive.google.com/uc?export=download&id=${FILE_ID}\" > /dev/null\n",
        "CODE=\"$(awk '/_warning_/ {print $NF}' /tmp/cookie)\"\n",
        "curl -Lb /tmp/cookie \"https://drive.google.com/uc?export=download&confirm=${CODE}&id=${FILE_ID}\" -o ${FILE_NAME}"
      ],
      "execution_count": 63,
      "outputs": [
        {
          "output_type": "stream",
          "text": [
            "  % Total    % Received % Xferd  Average Speed   Time    Time     Time  Current\n",
            "                                 Dload  Upload   Total   Spent    Left  Speed\n",
            "100   388    0   388    0     0   1616      0 --:--:-- --:--:-- --:--:--  1609\n",
            "100  122M    0  122M    0     0  58.8M      0 --:--:--  0:00:02 --:--:-- 92.4M\n"
          ],
          "name": "stdout"
        },
        {
          "output_type": "execute_result",
          "data": {
            "text/plain": [
              ""
            ]
          },
          "metadata": {
            "tags": []
          },
          "execution_count": 63
        }
      ]
    },
    {
      "cell_type": "code",
      "metadata": {
        "id": "uthieeVUtX76",
        "colab_type": "code",
        "colab": {
          "base_uri": "https://localhost:8080/",
          "height": 34
        },
        "outputId": "7115f31d-c67a-4af0-a23e-d0f2c765bdd4"
      },
      "source": [
        "! ls"
      ],
      "execution_count": 71,
      "outputs": [
        {
          "output_type": "stream",
          "text": [
            "data_set  data_set.zip\t__MACOSX  main.py  README.md  util\n"
          ],
          "name": "stdout"
        }
      ]
    },
    {
      "cell_type": "code",
      "metadata": {
        "id": "gZClQyvegflb",
        "colab_type": "code",
        "colab": {}
      },
      "source": [
        "! unzip data_set.zip"
      ],
      "execution_count": 0,
      "outputs": []
    },
    {
      "cell_type": "code",
      "metadata": {
        "id": "Eaj9RJ-Lu_zS",
        "colab_type": "code",
        "colab": {}
      },
      "source": [
        "!ls data_set/train_images\n",
        "!ls data_set/train_annotations"
      ],
      "execution_count": 0,
      "outputs": []
    },
    {
      "cell_type": "code",
      "metadata": {
        "id": "kEp3hUkFvLbT",
        "colab_type": "code",
        "colab": {
          "base_uri": "https://localhost:8080/",
          "height": 1000
        },
        "outputId": "2b6b47f3-50a8-4163-d1f4-41f007acd3db"
      },
      "source": [
        "! python main.py -g -e 50 -b 4 -t 0.7 -l 0.0001 -n 504"
      ],
      "execution_count": 75,
      "outputs": [
        {
          "output_type": "stream",
          "text": [
            "/usr/local/lib/python3.6/dist-packages/tensorflow/python/framework/dtypes.py:526: FutureWarning: Passing (type, 1) or '1type' as a synonym of type is deprecated; in a future version of numpy, it will be understood as (type, (1,)) / '(1,)type'.\n",
            "  _np_qint8 = np.dtype([(\"qint8\", np.int8, 1)])\n",
            "/usr/local/lib/python3.6/dist-packages/tensorflow/python/framework/dtypes.py:527: FutureWarning: Passing (type, 1) or '1type' as a synonym of type is deprecated; in a future version of numpy, it will be understood as (type, (1,)) / '(1,)type'.\n",
            "  _np_quint8 = np.dtype([(\"quint8\", np.uint8, 1)])\n",
            "/usr/local/lib/python3.6/dist-packages/tensorflow/python/framework/dtypes.py:528: FutureWarning: Passing (type, 1) or '1type' as a synonym of type is deprecated; in a future version of numpy, it will be understood as (type, (1,)) / '(1,)type'.\n",
            "  _np_qint16 = np.dtype([(\"qint16\", np.int16, 1)])\n",
            "/usr/local/lib/python3.6/dist-packages/tensorflow/python/framework/dtypes.py:529: FutureWarning: Passing (type, 1) or '1type' as a synonym of type is deprecated; in a future version of numpy, it will be understood as (type, (1,)) / '(1,)type'.\n",
            "  _np_quint16 = np.dtype([(\"quint16\", np.uint16, 1)])\n",
            "/usr/local/lib/python3.6/dist-packages/tensorflow/python/framework/dtypes.py:530: FutureWarning: Passing (type, 1) or '1type' as a synonym of type is deprecated; in a future version of numpy, it will be understood as (type, (1,)) / '(1,)type'.\n",
            "  _np_qint32 = np.dtype([(\"qint32\", np.int32, 1)])\n",
            "/usr/local/lib/python3.6/dist-packages/tensorflow/python/framework/dtypes.py:535: FutureWarning: Passing (type, 1) or '1type' as a synonym of type is deprecated; in a future version of numpy, it will be understood as (type, (1,)) / '(1,)type'.\n",
            "  np_resource = np.dtype([(\"resource\", np.ubyte, 1)])\n",
            "Loading original images..... Completed\n",
            "Loading segmented images..... Completed\n",
            "Casting to one-hot encoding... Done\n",
            "True\n",
            "\n",
            "WARNING: The TensorFlow contrib module will not be included in TensorFlow 2.0.\n",
            "For more information, please see:\n",
            "  * https://github.com/tensorflow/community/blob/master/rfcs/20180907-contrib-sunset.md\n",
            "  * https://github.com/tensorflow/addons\n",
            "If you depend on functionality not listed there, please file an issue.\n",
            "\n",
            "WARNING:tensorflow:From /content/drive/My Drive/LPE_U-Net/util/model.py:69: conv2d (from tensorflow.python.layers.convolutional) is deprecated and will be removed in a future version.\n",
            "Instructions for updating:\n",
            "Use keras.layers.conv2d instead.\n",
            "WARNING:tensorflow:From /usr/local/lib/python3.6/dist-packages/tensorflow/python/framework/op_def_library.py:263: colocate_with (from tensorflow.python.framework.ops) is deprecated and will be removed in a future version.\n",
            "Instructions for updating:\n",
            "Colocations handled automatically by placer.\n",
            "WARNING:tensorflow:From /content/drive/My Drive/LPE_U-Net/util/model.py:85: batch_normalization (from tensorflow.python.layers.normalization) is deprecated and will be removed in a future version.\n",
            "Instructions for updating:\n",
            "Use keras.layers.batch_normalization instead.\n",
            "WARNING:tensorflow:From /content/drive/My Drive/LPE_U-Net/util/model.py:91: max_pooling2d (from tensorflow.python.layers.pooling) is deprecated and will be removed in a future version.\n",
            "Instructions for updating:\n",
            "Use keras.layers.max_pooling2d instead.\n",
            "WARNING:tensorflow:From /content/drive/My Drive/LPE_U-Net/util/model.py:107: conv2d_transpose (from tensorflow.python.layers.convolutional) is deprecated and will be removed in a future version.\n",
            "Instructions for updating:\n",
            "Use keras.layers.conv2d_transpose instead.\n",
            "WARNING:tensorflow:From main.py:54: softmax_cross_entropy_with_logits (from tensorflow.python.ops.nn_ops) is deprecated and will be removed in a future version.\n",
            "Instructions for updating:\n",
            "\n",
            "Future major versions of TensorFlow will allow gradients to flow\n",
            "into the labels input on backprop by default.\n",
            "\n",
            "See `tf.nn.softmax_cross_entropy_with_logits_v2`.\n",
            "\n",
            "2020-03-02 10:21:07.790518: I tensorflow/core/platform/cpu_feature_guard.cc:141] Your CPU supports instructions that this TensorFlow binary was not compiled to use: AVX2 AVX512F FMA\n",
            "2020-03-02 10:21:07.957740: I tensorflow/stream_executor/cuda/cuda_gpu_executor.cc:998] successful NUMA node read from SysFS had negative value (-1), but there must be at least one NUMA node, so returning NUMA node zero\n",
            "2020-03-02 10:21:07.959070: I tensorflow/compiler/xla/service/service.cc:150] XLA service 0x18c38c0 executing computations on platform CUDA. Devices:\n",
            "2020-03-02 10:21:07.959111: I tensorflow/compiler/xla/service/service.cc:158]   StreamExecutor device (0): Tesla P4, Compute Capability 6.1\n",
            "2020-03-02 10:21:07.961518: I tensorflow/core/platform/profile_utils/cpu_utils.cc:94] CPU Frequency: 2000129999 Hz\n",
            "2020-03-02 10:21:07.962343: I tensorflow/compiler/xla/service/service.cc:150] XLA service 0x18c3a20 executing computations on platform Host. Devices:\n",
            "2020-03-02 10:21:07.962377: I tensorflow/compiler/xla/service/service.cc:158]   StreamExecutor device (0): <undefined>, <undefined>\n",
            "2020-03-02 10:21:07.962518: I tensorflow/core/common_runtime/gpu/gpu_device.cc:1433] Found device 0 with properties: \n",
            "name: Tesla P4 major: 6 minor: 1 memoryClockRate(GHz): 1.1135\n",
            "pciBusID: 0000:00:04.0\n",
            "totalMemory: 7.43GiB freeMemory: 7.32GiB\n",
            "2020-03-02 10:21:07.962547: I tensorflow/core/common_runtime/gpu/gpu_device.cc:1512] Adding visible gpu devices: 0\n",
            "2020-03-02 10:21:07.963374: I tensorflow/core/common_runtime/gpu/gpu_device.cc:984] Device interconnect StreamExecutor with strength 1 edge matrix:\n",
            "2020-03-02 10:21:07.963416: I tensorflow/core/common_runtime/gpu/gpu_device.cc:990]      0 \n",
            "2020-03-02 10:21:07.963428: I tensorflow/core/common_runtime/gpu/gpu_device.cc:1003] 0:   N \n",
            "2020-03-02 10:21:07.963510: I tensorflow/core/common_runtime/gpu/gpu_device.cc:1115] Created TensorFlow device (/job:localhost/replica:0/task:0/device:GPU:0 with 5328 MB memory) -> physical GPU (device: 0, name: Tesla P4, pci bus id: 0000:00:04.0, compute capability: 6.1)\n",
            "gpu mode\n",
            "2020-03-02 10:21:14.365867: I tensorflow/stream_executor/dso_loader.cc:152] successfully opened CUDA library libcublas.so.10.0 locally\n",
            "2020-03-02 10:21:29.060879: W tensorflow/core/common_runtime/bfc_allocator.cc:211] Allocator (GPU_0_bfc) ran out of memory trying to allocate 2.81GiB. The caller indicates that this is not a failure, but may mean that there could be performance gains if more memory were available.\n",
            "2020-03-02 10:21:29.575641: W tensorflow/core/common_runtime/bfc_allocator.cc:211] Allocator (GPU_0_bfc) ran out of memory trying to allocate 2.65GiB. The caller indicates that this is not a failure, but may mean that there could be performance gains if more memory were available.\n",
            "2020-03-02 10:21:30.104952: W tensorflow/core/common_runtime/bfc_allocator.cc:211] Allocator (GPU_0_bfc) ran out of memory trying to allocate 3.28GiB. The caller indicates that this is not a failure, but may mean that there could be performance gains if more memory were available.\n",
            "2020-03-02 10:21:30.901759: W tensorflow/core/common_runtime/bfc_allocator.cc:211] Allocator (GPU_0_bfc) ran out of memory trying to allocate 3.06GiB. The caller indicates that this is not a failure, but may mean that there could be performance gains if more memory were available.\n",
            "2020-03-02 10:21:31.287727: W tensorflow/core/common_runtime/bfc_allocator.cc:211] Allocator (GPU_0_bfc) ran out of memory trying to allocate 3.06GiB. The caller indicates that this is not a failure, but may mean that there could be performance gains if more memory were available.\n",
            "2020-03-02 10:21:31.673568: W tensorflow/core/common_runtime/bfc_allocator.cc:211] Allocator (GPU_0_bfc) ran out of memory trying to allocate 3.06GiB. The caller indicates that this is not a failure, but may mean that there could be performance gains if more memory were available.\n",
            "2020-03-02 10:21:32.933260: W tensorflow/core/common_runtime/bfc_allocator.cc:211] Allocator (GPU_0_bfc) ran out of memory trying to allocate 2.11GiB. The caller indicates that this is not a failure, but may mean that there could be performance gains if more memory were available.\n",
            "Epoch: 0\n",
            "[Train] Loss: 0.06456432  Accuracy: 0.98037297\n",
            "[Test]  Loss: 0.052340735 Accuracy: 0.98798054\n",
            "Epoch: 1\n",
            "[Train] Loss: 0.061061744  Accuracy: 0.98064905\n",
            "[Test]  Loss: 0.045077138 Accuracy: 0.9875654\n",
            "Epoch: 2\n",
            "[Train] Loss: 0.093044214  Accuracy: 0.9803653\n",
            "[Test]  Loss: 0.065795034 Accuracy: 0.9879809\n",
            "Epoch: 3\n",
            "[Train] Loss: 0.0687468  Accuracy: 0.9803681\n",
            "[Test]  Loss: 0.050145917 Accuracy: 0.9879809\n",
            "Epoch: 4\n",
            "[Train] Loss: 0.060020994  Accuracy: 0.98036647\n",
            "[Test]  Loss: 0.048677314 Accuracy: 0.9879781\n",
            "Epoch: 5\n",
            "[Train] Loss: 0.05789935  Accuracy: 0.98038304\n",
            "[Test]  Loss: 0.04614919 Accuracy: 0.98796475\n",
            "Epoch: 6\n",
            "[Train] Loss: 0.080182426  Accuracy: 0.9803673\n",
            "[Test]  Loss: 0.059409533 Accuracy: 0.9879809\n",
            "Epoch: 7\n",
            "[Train] Loss: 0.058804687  Accuracy: 0.9804679\n",
            "[Test]  Loss: 0.043525156 Accuracy: 0.98795503\n",
            "Epoch: 8\n",
            "[Train] Loss: 0.0649268  Accuracy: 0.9803705\n",
            "[Test]  Loss: 0.04966051 Accuracy: 0.9879809\n",
            "Epoch: 9\n",
            "[Train] Loss: 0.061417826  Accuracy: 0.9805419\n",
            "[Test]  Loss: 0.05296294 Accuracy: 0.98801005\n",
            "Epoch: 10\n",
            "[Train] Loss: 0.061069723  Accuracy: 0.9807117\n",
            "[Test]  Loss: 0.046894215 Accuracy: 0.987871\n",
            "Epoch: 11\n",
            "[Train] Loss: 0.055111833  Accuracy: 0.98043275\n",
            "[Test]  Loss: 0.040900864 Accuracy: 0.98782694\n",
            "Epoch: 12\n",
            "[Train] Loss: 0.062008068  Accuracy: 0.9804631\n",
            "[Test]  Loss: 0.05328433 Accuracy: 0.9880108\n",
            "Epoch: 13\n",
            "[Train] Loss: 0.06529781  Accuracy: 0.98038465\n",
            "[Test]  Loss: 0.050980203 Accuracy: 0.98798376\n",
            "Epoch: 14\n",
            "[Train] Loss: 0.0692772  Accuracy: 0.9804093\n",
            "[Test]  Loss: 0.06258174 Accuracy: 0.9879874\n",
            "Epoch: 15\n",
            "[Train] Loss: 0.057460878  Accuracy: 0.9804493\n",
            "[Test]  Loss: 0.044106614 Accuracy: 0.9879918\n",
            "Epoch: 16\n",
            "[Train] Loss: 0.054560408  Accuracy: 0.980953\n",
            "[Test]  Loss: 0.044482376 Accuracy: 0.9868952\n",
            "Epoch: 17\n",
            "[Train] Loss: 0.052604184  Accuracy: 0.9806078\n",
            "[Test]  Loss: 0.04275039 Accuracy: 0.98795664\n",
            "Epoch: 18\n",
            "[Train] Loss: 0.07281622  Accuracy: 0.9807513\n",
            "[Test]  Loss: 0.05118688 Accuracy: 0.9879995\n",
            "Epoch: 19\n",
            "[Train] Loss: 0.05440626  Accuracy: 0.98109\n",
            "[Test]  Loss: 0.042974964 Accuracy: 0.9881208\n",
            "Epoch: 20\n",
            "[Train] Loss: 0.08147542  Accuracy: 0.9806389\n",
            "[Test]  Loss: 0.0592846 Accuracy: 0.9880751\n",
            "Epoch: 21\n",
            "[Train] Loss: 0.06744335  Accuracy: 0.9811846\n",
            "[Test]  Loss: 0.051473647 Accuracy: 0.9881042\n",
            "Epoch: 22\n",
            "[Train] Loss: 0.064137965  Accuracy: 0.98102736\n",
            "[Test]  Loss: 0.04805937 Accuracy: 0.9880359\n",
            "Epoch: 23\n",
            "[Train] Loss: 0.06889757  Accuracy: 0.9811531\n",
            "[Test]  Loss: 0.05304022 Accuracy: 0.9880371\n",
            "Epoch: 24\n",
            "[Train] Loss: 0.07099854  Accuracy: 0.9821575\n",
            "[Test]  Loss: 0.053991754 Accuracy: 0.9877085\n",
            "Epoch: 25\n",
            "[Train] Loss: 0.04969576  Accuracy: 0.98138344\n",
            "[Test]  Loss: 0.03845162 Accuracy: 0.98816645\n",
            "Epoch: 26\n",
            "[Train] Loss: 0.065191165  Accuracy: 0.98085517\n",
            "[Test]  Loss: 0.05424068 Accuracy: 0.9880456\n",
            "Epoch: 27\n",
            "[Train] Loss: 0.054245234  Accuracy: 0.98160213\n",
            "[Test]  Loss: 0.043378085 Accuracy: 0.98809975\n",
            "Epoch: 28\n",
            "[Train] Loss: 0.050670985  Accuracy: 0.98359895\n",
            "[Test]  Loss: 0.041369267 Accuracy: 0.9882655\n",
            "Epoch: 29\n",
            "[Train] Loss: 0.047513098  Accuracy: 0.9822638\n",
            "[Test]  Loss: 0.041507144 Accuracy: 0.9884692\n",
            "Epoch: 30\n",
            "[Train] Loss: 0.056899633  Accuracy: 0.98312277\n",
            "[Test]  Loss: 0.047053866 Accuracy: 0.9882897\n",
            "Epoch: 31\n",
            "[Train] Loss: 0.048908  Accuracy: 0.9839235\n",
            "[Test]  Loss: 0.039827418 Accuracy: 0.98779094\n",
            "Epoch: 32\n",
            "[Train] Loss: 0.069596894  Accuracy: 0.9823136\n",
            "[Test]  Loss: 0.057354257 Accuracy: 0.9883035\n",
            "Epoch: 33\n",
            "[Train] Loss: 0.06086255  Accuracy: 0.9817994\n",
            "[Test]  Loss: 0.04803334 Accuracy: 0.9883617\n",
            "Epoch: 34\n",
            "[Train] Loss: 0.06212636  Accuracy: 0.9824502\n",
            "[Test]  Loss: 0.0520289 Accuracy: 0.9885856\n",
            "Epoch: 35\n",
            "[Train] Loss: 0.055288844  Accuracy: 0.9813459\n",
            "[Test]  Loss: 0.045744523 Accuracy: 0.98822224\n",
            "Epoch: 36\n",
            "[Train] Loss: 0.055335898  Accuracy: 0.98269635\n",
            "[Test]  Loss: 0.042087853 Accuracy: 0.9878197\n",
            "Epoch: 37\n",
            "[Train] Loss: 0.05428076  Accuracy: 0.98209244\n",
            "[Test]  Loss: 0.053769123 Accuracy: 0.98216724\n",
            "Epoch: 38\n",
            "[Train] Loss: 0.061939478  Accuracy: 0.9819029\n",
            "[Test]  Loss: 0.05615849 Accuracy: 0.9878479\n",
            "Epoch: 39\n",
            "[Train] Loss: 0.04011908  Accuracy: 0.9867542\n",
            "[Test]  Loss: 0.043118812 Accuracy: 0.98815715\n",
            "Epoch: 40\n",
            "[Train] Loss: 0.049411286  Accuracy: 0.9835359\n",
            "[Test]  Loss: 0.05076567 Accuracy: 0.9882154\n",
            "Epoch: 41\n",
            "[Train] Loss: 0.06845307  Accuracy: 0.9806991\n",
            "[Test]  Loss: 0.061548512 Accuracy: 0.98351324\n",
            "Epoch: 42\n",
            "[Train] Loss: 0.05796608  Accuracy: 0.9833463\n",
            "[Test]  Loss: 0.055321246 Accuracy: 0.9887788\n",
            "Epoch: 43\n",
            "[Train] Loss: 0.0706115  Accuracy: 0.98129696\n",
            "[Test]  Loss: 0.054533843 Accuracy: 0.98734957\n",
            "Epoch: 44\n",
            "[Train] Loss: 0.09063671  Accuracy: 0.9820346\n",
            "[Test]  Loss: 0.07148473 Accuracy: 0.9878536\n",
            "Epoch: 45\n",
            "[Train] Loss: 0.059398934  Accuracy: 0.98431396\n",
            "[Test]  Loss: 0.051119924 Accuracy: 0.98883176\n",
            "Epoch: 46\n",
            "[Train] Loss: 0.05665542  Accuracy: 0.9841688\n",
            "[Test]  Loss: 0.051997695 Accuracy: 0.9889021\n",
            "Epoch: 47\n",
            "[Train] Loss: 0.043908626  Accuracy: 0.98476464\n",
            "[Test]  Loss: 0.039625254 Accuracy: 0.9870181\n",
            "Epoch: 48\n",
            "[Train] Loss: 0.06602869  Accuracy: 0.9790722\n",
            "[Test]  Loss: 0.068863206 Accuracy: 0.981647\n",
            "Epoch: 49\n",
            "[Train] Loss: 0.042815786  Accuracy: 0.9865711\n",
            "[Test]  Loss: 0.041662306 Accuracy: 0.9891701\n",
            "Result\n",
            "[Test]  Loss: 0.041662306 Accuracy: 0.9891701\n"
          ],
          "name": "stdout"
        }
      ]
    }
  ]
}