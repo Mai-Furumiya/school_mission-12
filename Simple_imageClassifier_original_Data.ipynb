{
  "nbformat": 4,
  "nbformat_minor": 0,
  "metadata": {
    "colab": {
      "name": "Simple_imageClassifier_original_Data.ipynb",
      "provenance": [],
      "collapsed_sections": [],
      "toc_visible": true,
      "include_colab_link": true
    },
    "kernelspec": {
      "name": "python3",
      "display_name": "Python 3"
    },
    "accelerator": "TPU"
  },
  "cells": [
    {
      "cell_type": "markdown",
      "metadata": {
        "id": "view-in-github",
        "colab_type": "text"
      },
      "source": [
        "<a href=\"https://colab.research.google.com/github/Sonochy/UoA_school_mission-12/blob/dev/Simple_imageClassifier_original_Data.ipynb\" target=\"_parent\"><img src=\"https://colab.research.google.com/assets/colab-badge.svg\" alt=\"Open In Colab\"/></a>"
      ]
    },
    {
      "cell_type": "markdown",
      "metadata": {
        "id": "Q8cCQ4tYaxOp",
        "colab_type": "text"
      },
      "source": [
        "コードをクローン"
      ]
    },
    {
      "cell_type": "code",
      "metadata": {
        "id": "-hSEnfvwaUM8",
        "colab_type": "code",
        "colab": {
          "base_uri": "https://localhost:8080/",
          "height": 143
        },
        "outputId": "6b574ae6-9c0e-41b9-bbe6-aef448e37c3e"
      },
      "source": [
        "!rm -r ./Simple_imageClassifier\n",
        "!git clone -b dev https://github.com/Sonochy/Simple_imageClassifier.git"
      ],
      "execution_count": 1,
      "outputs": [
        {
          "output_type": "stream",
          "text": [
            "Cloning into 'Simple_imageClassifier'...\n",
            "remote: Enumerating objects: 569, done.\u001b[K\n",
            "remote: Counting objects:   0% (1/569)\u001b[K\rremote: Counting objects:   1% (6/569)\u001b[K\rremote: Counting objects:   2% (12/569)\u001b[K\rremote: Counting objects:   3% (18/569)\u001b[K\rremote: Counting objects:   4% (23/569)\u001b[K\rremote: Counting objects:   5% (29/569)\u001b[K\rremote: Counting objects:   6% (35/569)\u001b[K\rremote: Counting objects:   7% (40/569)\u001b[K\rremote: Counting objects:   8% (46/569)\u001b[K\rremote: Counting objects:   9% (52/569)\u001b[K\rremote: Counting objects:  10% (57/569)\u001b[K\rremote: Counting objects:  11% (63/569)\u001b[K\rremote: Counting objects:  12% (69/569)\u001b[K\rremote: Counting objects:  13% (74/569)\u001b[K\rremote: Counting objects:  14% (80/569)\u001b[K\rremote: Counting objects:  15% (86/569)\u001b[K\rremote: Counting objects:  16% (92/569)\u001b[K\rremote: Counting objects:  17% (97/569)\u001b[K\rremote: Counting objects:  18% (103/569)\u001b[K\rremote: Counting objects:  19% (109/569)\u001b[K\rremote: Counting objects:  20% (114/569)\u001b[K\rremote: Counting objects:  21% (120/569)\u001b[K\rremote: Counting objects:  22% (126/569)\u001b[K\rremote: Counting objects:  23% (131/569)\u001b[K\rremote: Counting objects:  24% (137/569)\u001b[K\rremote: Counting objects:  25% (143/569)\u001b[K\rremote: Counting objects:  26% (148/569)\u001b[K\rremote: Counting objects:  27% (154/569)\u001b[K\rremote: Counting objects:  28% (160/569)\u001b[K\rremote: Counting objects:  29% (166/569)\u001b[K\rremote: Counting objects:  30% (171/569)\u001b[K\rremote: Counting objects:  31% (177/569)\u001b[K\rremote: Counting objects:  32% (183/569)\u001b[K\rremote: Counting objects:  33% (188/569)\u001b[K\rremote: Counting objects:  34% (194/569)\u001b[K\rremote: Counting objects:  35% (200/569)\u001b[K\rremote: Counting objects:  36% (205/569)\u001b[K\rremote: Counting objects:  37% (211/569)\u001b[K\rremote: Counting objects:  38% (217/569)\u001b[K\rremote: Counting objects:  39% (222/569)\u001b[K\rremote: Counting objects:  40% (228/569)\u001b[K\rremote: Counting objects:  41% (234/569)\u001b[K\rremote: Counting objects:  42% (239/569)\u001b[K\rremote: Counting objects:  43% (245/569)\u001b[K\rremote: Counting objects:  44% (251/569)\u001b[K\rremote: Counting objects:  45% (257/569)\u001b[K\rremote: Counting objects:  46% (262/569)\u001b[K\rremote: Counting objects:  47% (268/569)\u001b[K\rremote: Counting objects:  48% (274/569)\u001b[K\rremote: Counting objects:  49% (279/569)\u001b[K\rremote: Counting objects:  50% (285/569)\u001b[K\rremote: Counting objects:  51% (291/569)\u001b[K\rremote: Counting objects:  52% (296/569)\u001b[K\rremote: Counting objects:  53% (302/569)\u001b[K\rremote: Counting objects:  54% (308/569)\u001b[K\rremote: Counting objects:  55% (313/569)\u001b[K\rremote: Counting objects:  56% (319/569)\u001b[K\rremote: Counting objects:  57% (325/569)\u001b[K\rremote: Counting objects:  58% (331/569)\u001b[K\rremote: Counting objects:  59% (336/569)\u001b[K\rremote: Counting objects:  60% (342/569)\u001b[K\rremote: Counting objects:  61% (348/569)\u001b[K\rremote: Counting objects:  62% (353/569)\u001b[K\rremote: Counting objects:  63% (359/569)\u001b[K\rremote: Counting objects:  64% (365/569)\u001b[K\rremote: Counting objects:  65% (370/569)\u001b[K\rremote: Counting objects:  66% (376/569)\u001b[K\rremote: Counting objects:  67% (382/569)\u001b[K\rremote: Counting objects:  68% (387/569)\u001b[K\rremote: Counting objects:  69% (393/569)\u001b[K\rremote: Counting objects:  70% (399/569)\u001b[K\rremote: Counting objects:  71% (404/569)\u001b[K\rremote: Counting objects:  72% (410/569)\u001b[K\rremote: Counting objects:  73% (416/569)\u001b[K\rremote: Counting objects:  74% (422/569)\u001b[K\rremote: Counting objects:  75% (427/569)\u001b[K\rremote: Counting objects:  76% (433/569)\u001b[K\rremote: Counting objects:  77% (439/569)\u001b[K\rremote: Counting objects:  78% (444/569)\u001b[K\rremote: Counting objects:  79% (450/569)\u001b[K\rremote: Counting objects:  80% (456/569)\u001b[K\rremote: Counting objects:  81% (461/569)\u001b[K\rremote: Counting objects:  82% (467/569)\u001b[K\rremote: Counting objects:  83% (473/569)\u001b[K\rremote: Counting objects:  84% (478/569)\u001b[K\rremote: Counting objects:  85% (484/569)\u001b[K\rremote: Counting objects:  86% (490/569)\u001b[K\rremote: Counting objects:  87% (496/569)\u001b[K\rremote: Counting objects:  88% (501/569)\u001b[K\rremote: Counting objects:  89% (507/569)\u001b[K\rremote: Counting objects:  90% (513/569)\u001b[K\rremote: Counting objects:  91% (518/569)\u001b[K\rremote: Counting objects:  92% (524/569)\u001b[K\rremote: Counting objects:  93% (530/569)\u001b[K\rremote: Counting objects:  94% (535/569)\u001b[K\rremote: Counting objects:  95% (541/569)\u001b[K\rremote: Counting objects:  96% (547/569)\u001b[K\rremote: Counting objects:  97% (552/569)\u001b[K\rremote: Counting objects:  98% (558/569)\u001b[K\rremote: Counting objects:  99% (564/569)\u001b[K\rremote: Counting objects: 100% (569/569)\u001b[K\rremote: Counting objects: 100% (569/569), done.\u001b[K\n",
            "remote: Compressing objects: 100% (557/557), done.\u001b[K\n",
            "remote: Total 569 (delta 29), reused 539 (delta 11), pack-reused 0\u001b[K\n",
            "Receiving objects: 100% (569/569), 8.61 MiB | 23.95 MiB/s, done.\n",
            "Resolving deltas: 100% (29/29), done.\n"
          ],
          "name": "stdout"
        }
      ]
    },
    {
      "cell_type": "code",
      "metadata": {
        "id": "R6HY5o74v1tT",
        "colab_type": "code",
        "colab": {}
      },
      "source": [
        "import os"
      ],
      "execution_count": 0,
      "outputs": []
    },
    {
      "cell_type": "code",
      "metadata": {
        "id": "OaL7p8nXv5tZ",
        "colab_type": "code",
        "colab": {}
      },
      "source": [
        "os.chdir(\"Simple_imageClassifier\")"
      ],
      "execution_count": 0,
      "outputs": []
    },
    {
      "cell_type": "markdown",
      "metadata": {
        "id": "Ff3ZpHoZ7jl-",
        "colab_type": "text"
      },
      "source": [
        "学習"
      ]
    },
    {
      "cell_type": "code",
      "metadata": {
        "id": "e1wa_gd5u999",
        "colab_type": "code",
        "outputId": "29729f07-4866-4931-9bd0-6061b946d57a",
        "colab": {
          "base_uri": "https://localhost:8080/",
          "height": 1000
        }
      },
      "source": [
        "!python train.py --epoch 20 --model_name test"
      ],
      "execution_count": 0,
      "outputs": [
        {
          "output_type": "stream",
          "text": [
            "Using TensorFlow backend.\n",
            "Lists do not exist. Create list from ./data.\n",
            "train samples:  407\n",
            "test samples:  101\n",
            "building the model ...\n",
            "WARNING:tensorflow:From /usr/local/lib/python3.6/dist-packages/keras/backend/tensorflow_backend.py:66: The name tf.get_default_graph is deprecated. Please use tf.compat.v1.get_default_graph instead.\n",
            "\n",
            "WARNING:tensorflow:From /usr/local/lib/python3.6/dist-packages/keras/backend/tensorflow_backend.py:541: The name tf.placeholder is deprecated. Please use tf.compat.v1.placeholder instead.\n",
            "\n",
            "WARNING:tensorflow:From /usr/local/lib/python3.6/dist-packages/keras/backend/tensorflow_backend.py:4432: The name tf.random_uniform is deprecated. Please use tf.random.uniform instead.\n",
            "\n",
            "WARNING:tensorflow:From /usr/local/lib/python3.6/dist-packages/keras/backend/tensorflow_backend.py:4267: The name tf.nn.max_pool is deprecated. Please use tf.nn.max_pool2d instead.\n",
            "\n",
            "WARNING:tensorflow:From /usr/local/lib/python3.6/dist-packages/keras/backend/tensorflow_backend.py:148: The name tf.placeholder_with_default is deprecated. Please use tf.compat.v1.placeholder_with_default instead.\n",
            "\n",
            "WARNING:tensorflow:From /usr/local/lib/python3.6/dist-packages/keras/backend/tensorflow_backend.py:3733: calling dropout (from tensorflow.python.ops.nn_ops) with keep_prob is deprecated and will be removed in a future version.\n",
            "Instructions for updating:\n",
            "Please use `rate` instead of `keep_prob`. Rate should be set to `rate = 1 - keep_prob`.\n",
            "WARNING:tensorflow:From /usr/local/lib/python3.6/dist-packages/keras/optimizers.py:793: The name tf.train.Optimizer is deprecated. Please use tf.compat.v1.train.Optimizer instead.\n",
            "\n",
            "WARNING:tensorflow:From /usr/local/lib/python3.6/dist-packages/keras/backend/tensorflow_backend.py:3576: The name tf.log is deprecated. Please use tf.math.log instead.\n",
            "\n",
            "WARNING:tensorflow:From /usr/local/lib/python3.6/dist-packages/tensorflow_core/python/ops/math_grad.py:1424: where (from tensorflow.python.ops.array_ops) is deprecated and will be removed in a future version.\n",
            "Instructions for updating:\n",
            "Use tf.where in 2.0, which has the same broadcast rule as np.where\n",
            "WARNING:tensorflow:From /usr/local/lib/python3.6/dist-packages/keras/backend/tensorflow_backend.py:1033: The name tf.assign_add is deprecated. Please use tf.compat.v1.assign_add instead.\n",
            "\n",
            "WARNING:tensorflow:From /usr/local/lib/python3.6/dist-packages/keras/backend/tensorflow_backend.py:1020: The name tf.assign is deprecated. Please use tf.compat.v1.assign instead.\n",
            "\n",
            "WARNING:tensorflow:From /usr/local/lib/python3.6/dist-packages/keras/backend/tensorflow_backend.py:3005: The name tf.Session is deprecated. Please use tf.compat.v1.Session instead.\n",
            "\n",
            "Train on 407 samples, validate on 101 samples\n",
            "WARNING:tensorflow:From /usr/local/lib/python3.6/dist-packages/keras/backend/tensorflow_backend.py:190: The name tf.get_default_session is deprecated. Please use tf.compat.v1.get_default_session instead.\n",
            "\n",
            "WARNING:tensorflow:From /usr/local/lib/python3.6/dist-packages/keras/backend/tensorflow_backend.py:197: The name tf.ConfigProto is deprecated. Please use tf.compat.v1.ConfigProto instead.\n",
            "\n",
            "2020-03-04 11:03:00.450219: I tensorflow/core/platform/profile_utils/cpu_utils.cc:94] CPU Frequency: 2300000000 Hz\n",
            "2020-03-04 11:03:00.450510: I tensorflow/compiler/xla/service/service.cc:168] XLA service 0x26892c0 initialized for platform Host (this does not guarantee that XLA will be used). Devices:\n",
            "2020-03-04 11:03:00.450554: I tensorflow/compiler/xla/service/service.cc:176]   StreamExecutor device (0): Host, Default Version\n",
            "2020-03-04 11:03:00.452713: I tensorflow/stream_executor/platform/default/dso_loader.cc:44] Successfully opened dynamic library libcuda.so.1\n",
            "2020-03-04 11:03:00.455005: E tensorflow/stream_executor/cuda/cuda_driver.cc:318] failed call to cuInit: CUDA_ERROR_NO_DEVICE: no CUDA-capable device is detected\n",
            "2020-03-04 11:03:00.455059: I tensorflow/stream_executor/cuda/cuda_diagnostics.cc:156] kernel driver does not appear to be running on this host (db947ef48ffe): /proc/driver/nvidia/version does not exist\n",
            "WARNING:tensorflow:From /usr/local/lib/python3.6/dist-packages/keras/backend/tensorflow_backend.py:207: The name tf.global_variables is deprecated. Please use tf.compat.v1.global_variables instead.\n",
            "\n",
            "WARNING:tensorflow:From /usr/local/lib/python3.6/dist-packages/keras/backend/tensorflow_backend.py:216: The name tf.is_variable_initialized is deprecated. Please use tf.compat.v1.is_variable_initialized instead.\n",
            "\n",
            "WARNING:tensorflow:From /usr/local/lib/python3.6/dist-packages/keras/backend/tensorflow_backend.py:223: The name tf.variables_initializer is deprecated. Please use tf.compat.v1.variables_initializer instead.\n",
            "\n",
            "WARNING:tensorflow:From /usr/local/lib/python3.6/dist-packages/keras/callbacks.py:1068: The name tf.summary.histogram is deprecated. Please use tf.compat.v1.summary.histogram instead.\n",
            "\n",
            "WARNING:tensorflow:From /usr/local/lib/python3.6/dist-packages/keras/callbacks.py:1112: The name tf.summary.image is deprecated. Please use tf.compat.v1.summary.image instead.\n",
            "\n",
            "WARNING:tensorflow:From /usr/local/lib/python3.6/dist-packages/keras/callbacks.py:1122: The name tf.summary.merge_all is deprecated. Please use tf.compat.v1.summary.merge_all instead.\n",
            "\n",
            "WARNING:tensorflow:From /usr/local/lib/python3.6/dist-packages/keras/callbacks.py:1125: The name tf.summary.FileWriter is deprecated. Please use tf.compat.v1.summary.FileWriter instead.\n",
            "\n",
            "Epoch 1/20\n",
            "180/407 [============>.................] - ETA: 18s - loss: 2.5242 - acc: 0.2500"
          ],
          "name": "stdout"
        }
      ]
    },
    {
      "cell_type": "markdown",
      "metadata": {
        "id": "WlHxcBv97np9",
        "colab_type": "text"
      },
      "source": [
        "test画像一覧表示"
      ]
    },
    {
      "cell_type": "code",
      "metadata": {
        "id": "k20fY3Gwsojc",
        "colab_type": "code",
        "colab": {}
      },
      "source": [
        "%cat ./list/test.lst"
      ],
      "execution_count": 0,
      "outputs": []
    },
    {
      "cell_type": "markdown",
      "metadata": {
        "id": "dOuAkYRv7t5W",
        "colab_type": "text"
      },
      "source": [
        "test実行"
      ]
    },
    {
      "cell_type": "code",
      "metadata": {
        "id": "WiwQLdBKvV5A",
        "colab_type": "code",
        "colab": {}
      },
      "source": [
        "%ls -l\n",
        "!python test.py --model ./2020*/acc_best_test.model"
      ],
      "execution_count": 0,
      "outputs": []
    }
  ]
}